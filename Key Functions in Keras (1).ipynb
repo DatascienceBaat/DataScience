{
 "cells": [
  {
   "cell_type": "markdown",
   "id": "d197fa00",
   "metadata": {},
   "source": [
    "# Keras"
   ]
  },
  {
   "cell_type": "code",
   "execution_count": 1,
   "id": "3fab3084",
   "metadata": {},
   "outputs": [],
   "source": [
    "import warnings\n",
    "warnings.filterwarnings(\"ignore\")"
   ]
  },
  {
   "cell_type": "code",
   "execution_count": 2,
   "id": "5e6ede5b-a016-4038-9ae7-8c7e1e4afe32",
   "metadata": {},
   "outputs": [],
   "source": [
    "import numpy as np\n",
    "from tensorflow.keras.models import Sequential\n",
    "from tensorflow.keras.layers import Dense\n",
    " "
   ]
  },
  {
   "cell_type": "code",
   "execution_count": 3,
   "id": "d7e271d1-b73b-45d9-ac92-711f403223c1",
   "metadata": {},
   "outputs": [
    {
     "name": "stdout",
     "output_type": "stream",
     "text": [
      "Epoch 1/10\n",
      "32/32 [==============================] - 2s 3ms/step - loss: 0.7079 - accuracy: 0.5000\n",
      "Epoch 2/10\n",
      "32/32 [==============================] - 0s 3ms/step - loss: 0.6963 - accuracy: 0.5180\n",
      "Epoch 3/10\n",
      "32/32 [==============================] - 0s 2ms/step - loss: 0.6885 - accuracy: 0.5310\n",
      "Epoch 4/10\n",
      "32/32 [==============================] - 0s 2ms/step - loss: 0.6859 - accuracy: 0.5530\n",
      "Epoch 5/10\n",
      "32/32 [==============================] - 0s 2ms/step - loss: 0.6788 - accuracy: 0.5790\n",
      "Epoch 6/10\n",
      "32/32 [==============================] - 0s 2ms/step - loss: 0.6800 - accuracy: 0.5760\n",
      "Epoch 7/10\n",
      "32/32 [==============================] - 0s 3ms/step - loss: 0.6774 - accuracy: 0.5830\n",
      "Epoch 8/10\n",
      "32/32 [==============================] - 0s 2ms/step - loss: 0.6719 - accuracy: 0.5790\n",
      "Epoch 9/10\n",
      "32/32 [==============================] - 0s 3ms/step - loss: 0.6707 - accuracy: 0.5790\n",
      "Epoch 10/10\n",
      "32/32 [==============================] - 0s 3ms/step - loss: 0.6643 - accuracy: 0.5870\n",
      "32/32 [==============================] - 0s 2ms/step\n"
     ]
    }
   ],
   "source": [
    "# Example\n",
    "data = np.random.random((1000,100))\n",
    "labels = np.random.randint(2,size=(1000,1))\n",
    "model = Sequential()\n",
    "model.add(Dense(32, activation='relu', input_dim=100))\n",
    "model.add(Dense(1, activation='sigmoid'))\n",
    "model.compile(optimizer='rmsprop', loss='binary_crossentropy', metrics=['accuracy'])\n",
    "model.fit(data,labels,epochs=10,batch_size=32)\n",
    "predictions = model.predict(data)"
   ]
  },
  {
   "cell_type": "markdown",
   "id": "064a2e1f-ebc6-4cab-8a98-efe54971ec05",
   "metadata": {},
   "source": [
    "# Data"
   ]
  },
  {
   "cell_type": "markdown",
   "id": "9bb88dae-be81-4be9-9c7b-e892fa1ed7e3",
   "metadata": {},
   "source": [
    "### Keras Data Sets"
   ]
  },
  {
   "cell_type": "code",
   "execution_count": 4,
   "id": "592cd1c4-40ae-4e85-af98-1d7b7af5512c",
   "metadata": {},
   "outputs": [
    {
     "name": "stdout",
     "output_type": "stream",
     "text": [
      "Downloading data from https://storage.googleapis.com/tensorflow/tf-keras-datasets/boston_housing.npz\n",
      "57026/57026 [==============================] - 0s 0us/step\n",
      "Downloading data from https://www.cs.toronto.edu/~kriz/cifar-10-python.tar.gz\n",
      "170498071/170498071 [==============================] - 178s 1us/step\n",
      "Downloading data from https://storage.googleapis.com/tensorflow/tf-keras-datasets/imdb.npz\n",
      "17464789/17464789 [==============================] - 3s 0us/step\n"
     ]
    }
   ],
   "source": [
    "from tensorflow.keras.datasets import boston_housing, mnist, cifar10, imdb\n",
    "(x_train,y_train),(x_test,y_test) = mnist.load_data()\n",
    "(x_train2,y_train2),(x_test2,y_test2) = boston_housing.load_data()\n",
    "(x_train3,y_train3),(x_test3,y_test3) = cifar10.load_data()\n",
    "(x_train4,y_train4),(x_test4,y_test4) = imdb.load_data(num_words=20000)\n",
    "num_classes = 10"
   ]
  },
  {
   "cell_type": "code",
   "execution_count": 5,
   "id": "43adf8bc-4ad1-4a4e-9523-81dfe371efb7",
   "metadata": {},
   "outputs": [],
   "source": [
    "import pandas as pd\n",
    "data = pd.read_csv(\"diabetes.csv\")\n"
   ]
  },
  {
   "cell_type": "code",
   "execution_count": 6,
   "id": "a05319f6-6eb1-4604-9d4b-2370ca86c294",
   "metadata": {},
   "outputs": [],
   "source": [
    "X = data.iloc[:, :-1]  \n",
    "y = data.iloc[:, -1]"
   ]
  },
  {
   "cell_type": "markdown",
   "id": "394e2139-2eb6-4c5a-af4a-bb08663adc67",
   "metadata": {},
   "source": [
    "# Data Preprocessing\n",
    "### Sequence Padding"
   ]
  },
  {
   "cell_type": "code",
   "execution_count": 7,
   "id": "3d9380d8-4217-4669-ba4e-a8b2bdf7b7c5",
   "metadata": {},
   "outputs": [],
   "source": [
    "from tensorflow.keras.preprocessing import sequence\n",
    "x_train4 = sequence.pad_sequences(x_train4,maxlen=80)\n",
    "x_test4 = sequence.pad_sequences(x_test4,maxlen=80)"
   ]
  },
  {
   "cell_type": "markdown",
   "id": "48cdc4de-8e33-4ff0-982b-114e9c3361a1",
   "metadata": {},
   "source": [
    "### One-Hot Encoding"
   ]
  },
  {
   "cell_type": "code",
   "execution_count": 8,
   "id": "27c0adf2-96cd-48bf-b665-0eaefb9adc61",
   "metadata": {},
   "outputs": [],
   "source": [
    "from tensorflow.keras.utils import to_categorical\n",
    "Y_train = to_categorical(y_train, num_classes)\n",
    "Y_test = to_categorical(y_test, num_classes)\n",
    "Y_train3 = to_categorical(y_train3, num_classes)\n",
    "Y_test3 = to_categorical(y_test3, num_classes)"
   ]
  },
  {
   "cell_type": "markdown",
   "id": "f8646023-4932-4367-880e-a5aaddd8c632",
   "metadata": {},
   "source": [
    "### Train And Test Sets"
   ]
  },
  {
   "cell_type": "code",
   "execution_count": 9,
   "id": "1382348d-f86c-4251-a185-3d63d1910386",
   "metadata": {},
   "outputs": [],
   "source": [
    "from sklearn.model_selection import train_test_split\n",
    "X_train5, X_test5, y_train5, y_test5 = train_test_split(X, y, test_size=0.33, random_state=42)"
   ]
  },
  {
   "cell_type": "markdown",
   "id": "5effefd1-2cdc-4a26-9297-63650fac5419",
   "metadata": {},
   "source": [
    "### Standardization/Normalization"
   ]
  },
  {
   "cell_type": "code",
   "execution_count": 10,
   "id": "4e6397f1-907d-40b4-a575-a56122a0325f",
   "metadata": {},
   "outputs": [],
   "source": [
    "from sklearn.preprocessing import StandardScaler\n",
    "scaler = StandardScaler().fit(x_train2)\n",
    "standardized_X = scaler.transform(x_train2)\n",
    "standardized_X_test = scaler.transform(x_test2)"
   ]
  },
  {
   "cell_type": "markdown",
   "id": "34a89985-afe4-4d82-b22c-68587e353982",
   "metadata": {},
   "source": [
    "# Model Architecture\n",
    "## Sequential Model"
   ]
  },
  {
   "cell_type": "code",
   "execution_count": 11,
   "id": "e1f2722a-cff9-483f-8bba-edfee5b5772c",
   "metadata": {},
   "outputs": [],
   "source": [
    "from tensorflow.keras.models import Sequential\n",
    "model = Sequential()\n",
    "model2 = Sequential()\n",
    "model3 = Sequential()"
   ]
  },
  {
   "cell_type": "markdown",
   "id": "a0dbd8e1-6ab3-4b2b-a58b-788914733c39",
   "metadata": {},
   "source": [
    "## Multi-Layer Perceptron (MLP)\n",
    "### Binary Classification"
   ]
  },
  {
   "cell_type": "code",
   "execution_count": 12,
   "id": "f12414c1-3e13-4703-8f25-f67184d4861a",
   "metadata": {},
   "outputs": [],
   "source": [
    "from tensorflow.keras.layers import Dense\n",
    "model.add(Dense(12, input_dim=8, kernel_initializer='uniform', activation='relu'))\n",
    "model.add(Dense(8, kernel_initializer='uniform', activation='relu'))\n",
    "model.add(Dense(1, kernel_initializer='uniform', activation='sigmoid'))"
   ]
  },
  {
   "cell_type": "markdown",
   "id": "927d1900-2263-4a33-9d6b-42031f90aadb",
   "metadata": {},
   "source": [
    "### Multi-Class Classification"
   ]
  },
  {
   "cell_type": "code",
   "execution_count": 13,
   "id": "d887b9a9-a986-4a3e-a353-096b2563d74e",
   "metadata": {},
   "outputs": [],
   "source": [
    "from tensorflow.keras.layers import Dropout\n",
    "model.add(Dense(512,activation='relu',input_shape=(784,)))\n",
    "model.add(Dropout(0.2))\n",
    "model.add(Dense(512,activation='relu'))\n",
    "model.add(Dropout(0.2))\n",
    "model.add(Dense(10,activation='softmax'))"
   ]
  },
  {
   "cell_type": "markdown",
   "id": "46dbe08c-20d5-421d-b5e4-1d2696a3013d",
   "metadata": {},
   "source": [
    "### Regression"
   ]
  },
  {
   "cell_type": "code",
   "execution_count": 14,
   "id": "62823196-c32e-406f-a699-3adefe0604ff",
   "metadata": {},
   "outputs": [],
   "source": [
    "model.add(Dense(64, activation='relu', input_dim=X_train5.shape[1]))\n",
    "model.add(Dense(1))"
   ]
  },
  {
   "cell_type": "markdown",
   "id": "0a6a5b85-0f2b-4b03-811a-bc99a78a40b6",
   "metadata": {},
   "source": [
    "## Convolutional Neural Network (CNN)"
   ]
  },
  {
   "cell_type": "code",
   "execution_count": 16,
   "id": "bb390cd0",
   "metadata": {},
   "outputs": [],
   "source": [
    "from tensorflow.keras.layers import Activation, Conv2D, MaxPooling2D, Flatten"
   ]
  },
  {
   "cell_type": "code",
   "execution_count": 17,
   "id": "568b19c4-9970-4ad9-a53d-fe6518eb78d3",
   "metadata": {},
   "outputs": [],
   "source": [
    "if len(x_train.shape) == 3:  \n",
    "    x_train = x_train.reshape(x_train.shape[0], x_train.shape[1], x_train.shape[2], 1)\n",
    "# Initialize the model\n",
    "model2 = Sequential()\n",
    "# Add layers to the model\n",
    "model2.add(Conv2D(32, (3, 3), padding='same', input_shape=x_train.shape[1:]))\n",
    "model2.add(Activation('relu'))\n",
    "model2.add(Conv2D(32, (3, 3)))\n",
    "model2.add(Activation('relu'))\n",
    "model2.add(MaxPooling2D(pool_size=(2, 2)))\n",
    "model2.add(Dropout(0.25))\n",
    "model2.add(Conv2D(64, (3, 3), padding='same'))\n",
    "model2.add(Activation('relu'))\n",
    "model2.add(Conv2D(64, (3, 3)))\n",
    "model2.add(Activation('relu'))\n",
    "model2.add(MaxPooling2D(pool_size=(2, 2)))\n",
    "model2.add(Dropout(0.25))\n",
    "model2.add(Flatten())\n",
    "model2.add(Dense(512))\n",
    "model2.add(Activation('relu'))\n",
    "model2.add(Dropout(0.5))\n",
    "model2.add(Dense(num_classes))\n",
    "model2.add(Activation('softmax'))"
   ]
  },
  {
   "cell_type": "markdown",
   "id": "82f7ece4-e1a2-491d-b0ac-c647b8a072d6",
   "metadata": {},
   "source": [
    "## Recurrent Neural Network (RNN)"
   ]
  },
  {
   "cell_type": "code",
   "execution_count": 18,
   "id": "84afd646-b3b5-47fc-afeb-db0457b05348",
   "metadata": {},
   "outputs": [],
   "source": [
    "from tensorflow.keras.layers import Embedding, LSTM, Dense\n",
    "# Add layers to the model\n",
    "model3.add(Embedding(20000, 128))\n",
    "model3.add(LSTM(128, dropout=0.2, recurrent_dropout=0.2))\n",
    "model3.add(Dense(1, activation='sigmoid'))"
   ]
  },
  {
   "cell_type": "markdown",
   "id": "e2083d18-4877-4cf7-80fd-b3221e470db1",
   "metadata": {},
   "source": [
    "# Inspect Model"
   ]
  },
  {
   "cell_type": "markdown",
   "id": "af99a34b-fb62-4cee-89e5-5af84b57836a",
   "metadata": {},
   "source": [
    "### Model output shape"
   ]
  },
  {
   "cell_type": "code",
   "execution_count": 19,
   "id": "29bbaa94-45af-421b-8087-8514431fc63d",
   "metadata": {},
   "outputs": [
    {
     "data": {
      "text/plain": [
       "(None, 1)"
      ]
     },
     "execution_count": 19,
     "metadata": {},
     "output_type": "execute_result"
    }
   ],
   "source": [
    "model.output_shape"
   ]
  },
  {
   "cell_type": "markdown",
   "id": "c30c8c9e-b2f6-4600-8ee5-0e1884e681d8",
   "metadata": {},
   "source": [
    "### Model summary representation"
   ]
  },
  {
   "cell_type": "code",
   "execution_count": 20,
   "id": "1e8bcde3-0b2c-4d44-b7c0-f9cc7de21068",
   "metadata": {},
   "outputs": [
    {
     "name": "stdout",
     "output_type": "stream",
     "text": [
      "Model: \"sequential_1\"\n",
      "_________________________________________________________________\n",
      " Layer (type)                Output Shape              Param #   \n",
      "=================================================================\n",
      " dense_2 (Dense)             (None, 12)                108       \n",
      "                                                                 \n",
      " dense_3 (Dense)             (None, 8)                 104       \n",
      "                                                                 \n",
      " dense_4 (Dense)             (None, 1)                 9         \n",
      "                                                                 \n",
      " dense_5 (Dense)             (None, 512)               1024      \n",
      "                                                                 \n",
      " dropout (Dropout)           (None, 512)               0         \n",
      "                                                                 \n",
      " dense_6 (Dense)             (None, 512)               262656    \n",
      "                                                                 \n",
      " dropout_1 (Dropout)         (None, 512)               0         \n",
      "                                                                 \n",
      " dense_7 (Dense)             (None, 10)                5130      \n",
      "                                                                 \n",
      " dense_8 (Dense)             (None, 64)                704       \n",
      "                                                                 \n",
      " dense_9 (Dense)             (None, 1)                 65        \n",
      "                                                                 \n",
      "=================================================================\n",
      "Total params: 269800 (1.03 MB)\n",
      "Trainable params: 269800 (1.03 MB)\n",
      "Non-trainable params: 0 (0.00 Byte)\n",
      "_________________________________________________________________\n"
     ]
    }
   ],
   "source": [
    "model.summary()"
   ]
  },
  {
   "cell_type": "markdown",
   "id": "74d4cbc8-4b03-4568-8d06-876b6be945c2",
   "metadata": {},
   "source": [
    "### Model configuration"
   ]
  },
  {
   "cell_type": "code",
   "execution_count": 21,
   "id": "dfdc9bdd-dde2-4245-8e22-548ab896534e",
   "metadata": {},
   "outputs": [
    {
     "data": {
      "text/plain": [
       "{'name': 'sequential_1',\n",
       " 'layers': [{'module': 'keras.layers',\n",
       "   'class_name': 'InputLayer',\n",
       "   'config': {'batch_input_shape': (None, 8),\n",
       "    'dtype': 'float32',\n",
       "    'sparse': False,\n",
       "    'ragged': False,\n",
       "    'name': 'dense_2_input'},\n",
       "   'registered_name': None},\n",
       "  {'module': 'keras.layers',\n",
       "   'class_name': 'Dense',\n",
       "   'config': {'name': 'dense_2',\n",
       "    'trainable': True,\n",
       "    'dtype': 'float32',\n",
       "    'batch_input_shape': (None, 8),\n",
       "    'units': 12,\n",
       "    'activation': 'relu',\n",
       "    'use_bias': True,\n",
       "    'kernel_initializer': {'module': 'keras.initializers',\n",
       "     'class_name': 'RandomUniform',\n",
       "     'config': {'minval': -0.05, 'maxval': 0.05, 'seed': None},\n",
       "     'registered_name': None},\n",
       "    'bias_initializer': {'module': 'keras.initializers',\n",
       "     'class_name': 'Zeros',\n",
       "     'config': {},\n",
       "     'registered_name': None},\n",
       "    'kernel_regularizer': None,\n",
       "    'bias_regularizer': None,\n",
       "    'activity_regularizer': None,\n",
       "    'kernel_constraint': None,\n",
       "    'bias_constraint': None},\n",
       "   'registered_name': None,\n",
       "   'build_config': {'input_shape': (None, 8)}},\n",
       "  {'module': 'keras.layers',\n",
       "   'class_name': 'Dense',\n",
       "   'config': {'name': 'dense_3',\n",
       "    'trainable': True,\n",
       "    'dtype': 'float32',\n",
       "    'units': 8,\n",
       "    'activation': 'relu',\n",
       "    'use_bias': True,\n",
       "    'kernel_initializer': {'module': 'keras.initializers',\n",
       "     'class_name': 'RandomUniform',\n",
       "     'config': {'minval': -0.05, 'maxval': 0.05, 'seed': None},\n",
       "     'registered_name': None},\n",
       "    'bias_initializer': {'module': 'keras.initializers',\n",
       "     'class_name': 'Zeros',\n",
       "     'config': {},\n",
       "     'registered_name': None},\n",
       "    'kernel_regularizer': None,\n",
       "    'bias_regularizer': None,\n",
       "    'activity_regularizer': None,\n",
       "    'kernel_constraint': None,\n",
       "    'bias_constraint': None},\n",
       "   'registered_name': None,\n",
       "   'build_config': {'input_shape': (None, 12)}},\n",
       "  {'module': 'keras.layers',\n",
       "   'class_name': 'Dense',\n",
       "   'config': {'name': 'dense_4',\n",
       "    'trainable': True,\n",
       "    'dtype': 'float32',\n",
       "    'units': 1,\n",
       "    'activation': 'sigmoid',\n",
       "    'use_bias': True,\n",
       "    'kernel_initializer': {'module': 'keras.initializers',\n",
       "     'class_name': 'RandomUniform',\n",
       "     'config': {'minval': -0.05, 'maxval': 0.05, 'seed': None},\n",
       "     'registered_name': None},\n",
       "    'bias_initializer': {'module': 'keras.initializers',\n",
       "     'class_name': 'Zeros',\n",
       "     'config': {},\n",
       "     'registered_name': None},\n",
       "    'kernel_regularizer': None,\n",
       "    'bias_regularizer': None,\n",
       "    'activity_regularizer': None,\n",
       "    'kernel_constraint': None,\n",
       "    'bias_constraint': None},\n",
       "   'registered_name': None,\n",
       "   'build_config': {'input_shape': (None, 8)}},\n",
       "  {'module': 'keras.layers',\n",
       "   'class_name': 'Dense',\n",
       "   'config': {'name': 'dense_5',\n",
       "    'trainable': True,\n",
       "    'dtype': 'float32',\n",
       "    'batch_input_shape': (None, 784),\n",
       "    'units': 512,\n",
       "    'activation': 'relu',\n",
       "    'use_bias': True,\n",
       "    'kernel_initializer': {'module': 'keras.initializers',\n",
       "     'class_name': 'GlorotUniform',\n",
       "     'config': {'seed': None},\n",
       "     'registered_name': None},\n",
       "    'bias_initializer': {'module': 'keras.initializers',\n",
       "     'class_name': 'Zeros',\n",
       "     'config': {},\n",
       "     'registered_name': None},\n",
       "    'kernel_regularizer': None,\n",
       "    'bias_regularizer': None,\n",
       "    'activity_regularizer': None,\n",
       "    'kernel_constraint': None,\n",
       "    'bias_constraint': None},\n",
       "   'registered_name': None,\n",
       "   'build_config': {'input_shape': (None, 1)}},\n",
       "  {'module': 'keras.layers',\n",
       "   'class_name': 'Dropout',\n",
       "   'config': {'name': 'dropout',\n",
       "    'trainable': True,\n",
       "    'dtype': 'float32',\n",
       "    'rate': 0.2,\n",
       "    'noise_shape': None,\n",
       "    'seed': None},\n",
       "   'registered_name': None,\n",
       "   'build_config': {'input_shape': (None, 512)}},\n",
       "  {'module': 'keras.layers',\n",
       "   'class_name': 'Dense',\n",
       "   'config': {'name': 'dense_6',\n",
       "    'trainable': True,\n",
       "    'dtype': 'float32',\n",
       "    'units': 512,\n",
       "    'activation': 'relu',\n",
       "    'use_bias': True,\n",
       "    'kernel_initializer': {'module': 'keras.initializers',\n",
       "     'class_name': 'GlorotUniform',\n",
       "     'config': {'seed': None},\n",
       "     'registered_name': None},\n",
       "    'bias_initializer': {'module': 'keras.initializers',\n",
       "     'class_name': 'Zeros',\n",
       "     'config': {},\n",
       "     'registered_name': None},\n",
       "    'kernel_regularizer': None,\n",
       "    'bias_regularizer': None,\n",
       "    'activity_regularizer': None,\n",
       "    'kernel_constraint': None,\n",
       "    'bias_constraint': None},\n",
       "   'registered_name': None,\n",
       "   'build_config': {'input_shape': (None, 512)}},\n",
       "  {'module': 'keras.layers',\n",
       "   'class_name': 'Dropout',\n",
       "   'config': {'name': 'dropout_1',\n",
       "    'trainable': True,\n",
       "    'dtype': 'float32',\n",
       "    'rate': 0.2,\n",
       "    'noise_shape': None,\n",
       "    'seed': None},\n",
       "   'registered_name': None,\n",
       "   'build_config': {'input_shape': (None, 512)}},\n",
       "  {'module': 'keras.layers',\n",
       "   'class_name': 'Dense',\n",
       "   'config': {'name': 'dense_7',\n",
       "    'trainable': True,\n",
       "    'dtype': 'float32',\n",
       "    'units': 10,\n",
       "    'activation': 'softmax',\n",
       "    'use_bias': True,\n",
       "    'kernel_initializer': {'module': 'keras.initializers',\n",
       "     'class_name': 'GlorotUniform',\n",
       "     'config': {'seed': None},\n",
       "     'registered_name': None},\n",
       "    'bias_initializer': {'module': 'keras.initializers',\n",
       "     'class_name': 'Zeros',\n",
       "     'config': {},\n",
       "     'registered_name': None},\n",
       "    'kernel_regularizer': None,\n",
       "    'bias_regularizer': None,\n",
       "    'activity_regularizer': None,\n",
       "    'kernel_constraint': None,\n",
       "    'bias_constraint': None},\n",
       "   'registered_name': None,\n",
       "   'build_config': {'input_shape': (None, 512)}},\n",
       "  {'module': 'keras.layers',\n",
       "   'class_name': 'Dense',\n",
       "   'config': {'name': 'dense_8',\n",
       "    'trainable': True,\n",
       "    'dtype': 'float32',\n",
       "    'batch_input_shape': (None, 8),\n",
       "    'units': 64,\n",
       "    'activation': 'relu',\n",
       "    'use_bias': True,\n",
       "    'kernel_initializer': {'module': 'keras.initializers',\n",
       "     'class_name': 'GlorotUniform',\n",
       "     'config': {'seed': None},\n",
       "     'registered_name': None},\n",
       "    'bias_initializer': {'module': 'keras.initializers',\n",
       "     'class_name': 'Zeros',\n",
       "     'config': {},\n",
       "     'registered_name': None},\n",
       "    'kernel_regularizer': None,\n",
       "    'bias_regularizer': None,\n",
       "    'activity_regularizer': None,\n",
       "    'kernel_constraint': None,\n",
       "    'bias_constraint': None},\n",
       "   'registered_name': None,\n",
       "   'build_config': {'input_shape': (None, 10)}},\n",
       "  {'module': 'keras.layers',\n",
       "   'class_name': 'Dense',\n",
       "   'config': {'name': 'dense_9',\n",
       "    'trainable': True,\n",
       "    'dtype': 'float32',\n",
       "    'units': 1,\n",
       "    'activation': 'linear',\n",
       "    'use_bias': True,\n",
       "    'kernel_initializer': {'module': 'keras.initializers',\n",
       "     'class_name': 'GlorotUniform',\n",
       "     'config': {'seed': None},\n",
       "     'registered_name': None},\n",
       "    'bias_initializer': {'module': 'keras.initializers',\n",
       "     'class_name': 'Zeros',\n",
       "     'config': {},\n",
       "     'registered_name': None},\n",
       "    'kernel_regularizer': None,\n",
       "    'bias_regularizer': None,\n",
       "    'activity_regularizer': None,\n",
       "    'kernel_constraint': None,\n",
       "    'bias_constraint': None},\n",
       "   'registered_name': None,\n",
       "   'build_config': {'input_shape': (None, 64)}}]}"
      ]
     },
     "execution_count": 21,
     "metadata": {},
     "output_type": "execute_result"
    }
   ],
   "source": [
    "model.get_config()\n"
   ]
  },
  {
   "cell_type": "markdown",
   "id": "ef0f0191-f236-439a-91e1-e5e1fadc0cc6",
   "metadata": {},
   "source": [
    "### List all weight tensors in the model"
   ]
  },
  {
   "cell_type": "code",
   "execution_count": 22,
   "id": "bb65519c-4719-4ac6-8ddc-b69ace4148ca",
   "metadata": {},
   "outputs": [
    {
     "data": {
      "text/plain": [
       "[array([[ 0.04249552,  0.01884313, -0.00097078, -0.02499957,  0.03679246,\n",
       "          0.00593521,  0.04099781, -0.04748343, -0.01028652,  0.00513091,\n",
       "         -0.02522862, -0.01657667],\n",
       "        [-0.04299615,  0.04515493,  0.01838792, -0.04503066,  0.02051034,\n",
       "         -0.03751866, -0.01508074,  0.03599001,  0.01848637,  0.02845738,\n",
       "         -0.04099457,  0.0432994 ],\n",
       "        [ 0.01715133,  0.00851017, -0.02767993,  0.02585847, -0.00963623,\n",
       "         -0.02947531,  0.04806714, -0.02939488, -0.03254567, -0.01298839,\n",
       "          0.03472139,  0.00801555],\n",
       "        [ 0.04649352,  0.00094825, -0.02801768, -0.02194675, -0.03752124,\n",
       "          0.00139948,  0.02562889,  0.00820636,  0.02847188, -0.01814055,\n",
       "         -0.04881133,  0.02877477],\n",
       "        [ 0.01674017,  0.00961732, -0.03498218,  0.00441166,  0.0046548 ,\n",
       "          0.04512067, -0.02356292,  0.01827547,  0.04900249, -0.01734096,\n",
       "          0.0248079 ,  0.02464295],\n",
       "        [-0.02588395,  0.04355818,  0.02043938, -0.04394343, -0.02956349,\n",
       "         -0.0258888 ,  0.03988298, -0.03020396, -0.0211068 , -0.02271423,\n",
       "         -0.03159767,  0.02767331],\n",
       "        [ 0.03645759,  0.04223266, -0.03722911, -0.02505481,  0.03442116,\n",
       "         -0.03115856,  0.03360039, -0.04278605, -0.04863748,  0.04581853,\n",
       "          0.01116228, -0.00273162],\n",
       "        [-0.04302318,  0.00779166,  0.02083105,  0.02879052, -0.03462124,\n",
       "          0.00331289,  0.02624153, -0.03096713,  0.01933715,  0.01812042,\n",
       "          0.0008749 , -0.02072113]], dtype=float32),\n",
       " array([0., 0., 0., 0., 0., 0., 0., 0., 0., 0., 0., 0.], dtype=float32),\n",
       " array([[ 0.01203915,  0.02234742,  0.01946959, -0.03652602, -0.02179077,\n",
       "         -0.00698773,  0.03689594,  0.03141454],\n",
       "        [ 0.04751867,  0.01767434,  0.02167909,  0.02204676, -0.01503791,\n",
       "          0.00469345, -0.02844805,  0.03171796],\n",
       "        [ 0.00814433, -0.04039035, -0.02575364,  0.03637952,  0.04720726,\n",
       "          0.01385376, -0.02799826, -0.04685987],\n",
       "        [ 0.00646108, -0.0163605 ,  0.04084473,  0.00437494,  0.01380808,\n",
       "          0.03184855, -0.01558658,  0.0007607 ],\n",
       "        [ 0.00568321,  0.03110707, -0.00733893,  0.00194021,  0.00814133,\n",
       "         -0.03196526,  0.01508043, -0.03034453],\n",
       "        [-0.02376504, -0.03873992, -0.01532329, -0.00125571, -0.04114076,\n",
       "         -0.03489418, -0.03143468, -0.04403615],\n",
       "        [ 0.01031451,  0.03979887, -0.01564001,  0.02383831, -0.03956244,\n",
       "         -0.03175964,  0.03993294, -0.00025459],\n",
       "        [-0.04811705,  0.04855723, -0.02997593,  0.03323264, -0.01305051,\n",
       "         -0.03172197, -0.02906954, -0.03581842],\n",
       "        [ 0.01210401,  0.04763449,  0.0495204 ,  0.01788873, -0.03829245,\n",
       "          0.00818009,  0.01051567,  0.01304073],\n",
       "        [ 0.03826114, -0.03127741, -0.01959461, -0.0391187 , -0.03642417,\n",
       "          0.01879277,  0.03862799,  0.03205549],\n",
       "        [-0.02142705, -0.02877539,  0.03676926, -0.02826121,  0.00978339,\n",
       "          0.01089178, -0.04098036,  0.03617245],\n",
       "        [-0.01775096, -0.04278008,  0.02082035, -0.01154155, -0.02960581,\n",
       "         -0.0089693 ,  0.03746602,  0.02057754]], dtype=float32),\n",
       " array([0., 0., 0., 0., 0., 0., 0., 0.], dtype=float32),\n",
       " array([[ 0.0172434 ],\n",
       "        [ 0.03058347],\n",
       "        [ 0.04879708],\n",
       "        [-0.02787391],\n",
       "        [-0.01754367],\n",
       "        [-0.03662733],\n",
       "        [ 0.03587746],\n",
       "        [-0.04698   ]], dtype=float32),\n",
       " array([0.], dtype=float32),\n",
       " array([[-8.67369920e-02,  1.07508861e-01, -9.49703902e-03,\n",
       "          3.25092748e-02, -8.76658037e-02, -2.69419923e-02,\n",
       "         -5.04499637e-02,  6.00154325e-02,  8.71833935e-02,\n",
       "         -4.82821651e-02,  8.48147646e-02, -5.66921867e-02,\n",
       "          6.78951666e-02,  3.76192406e-02, -3.26891765e-02,\n",
       "         -5.90008982e-02, -1.87191665e-02, -7.57554695e-02,\n",
       "         -1.18034780e-02, -9.22889933e-02, -4.29412648e-02,\n",
       "         -6.58009648e-02, -8.85562897e-02,  7.36649558e-02,\n",
       "         -6.89738095e-02,  5.79002425e-02,  6.73006848e-02,\n",
       "         -2.31001899e-02,  8.36320892e-02, -3.81686464e-02,\n",
       "          7.95369819e-02,  2.30536982e-02,  3.69683877e-02,\n",
       "          7.60607794e-02, -1.06577165e-01,  4.27770689e-02,\n",
       "          2.70240679e-02, -6.76077604e-02,  1.80611536e-02,\n",
       "         -5.74475415e-02,  4.23689857e-02,  1.01861142e-01,\n",
       "         -5.68582118e-03,  7.04487339e-02,  2.56043449e-02,\n",
       "          1.01012506e-01,  5.03725633e-02,  5.59699908e-02,\n",
       "         -4.41037267e-02, -7.24329650e-02,  6.02241382e-02,\n",
       "          2.71080211e-02,  8.99519548e-02,  4.27830219e-03,\n",
       "          1.19611621e-03,  4.83154729e-02, -4.10663262e-02,\n",
       "         -4.86693718e-02,  6.82611018e-03, -4.60129604e-02,\n",
       "         -2.58179232e-02, -8.10161605e-02, -4.89907749e-02,\n",
       "          2.93111429e-02, -4.23464924e-02,  8.44364613e-03,\n",
       "         -4.56039682e-02,  9.43330303e-02,  1.00857697e-01,\n",
       "         -4.18620855e-02,  1.31475180e-02, -7.39858374e-02,\n",
       "         -1.68076158e-02,  2.25049332e-02,  4.64078709e-02,\n",
       "          6.34907857e-02, -4.34387699e-02,  9.07967463e-02,\n",
       "          2.89398208e-02,  8.89052078e-02, -9.31292325e-02,\n",
       "         -9.21989530e-02,  1.43862516e-02,  7.71097168e-02,\n",
       "          7.96134099e-02, -7.07163736e-02,  1.58524066e-02,\n",
       "         -1.07347630e-01, -3.15636396e-02, -4.04074788e-03,\n",
       "         -9.75689217e-02,  2.11479291e-02, -7.51392245e-02,\n",
       "         -6.04948699e-02, -8.52437690e-02, -9.15423557e-02,\n",
       "          9.14550498e-02,  1.04822822e-01, -9.14216861e-02,\n",
       "          3.63714993e-03,  1.04039975e-01, -4.48347181e-02,\n",
       "         -1.07983880e-01, -4.01879027e-02,  7.01249614e-02,\n",
       "          1.05950810e-01, -3.97047549e-02,  5.64036593e-02,\n",
       "          4.48062494e-02, -2.36547887e-02,  3.90940830e-02,\n",
       "          1.51202008e-02,  1.06033005e-01,  5.76710925e-02,\n",
       "          4.15526703e-02,  8.51538554e-02,  8.31656978e-02,\n",
       "          2.83624753e-02, -3.12475860e-03, -5.29100038e-02,\n",
       "         -8.97838622e-02, -7.15846866e-02, -6.94986582e-02,\n",
       "          2.17274353e-02, -8.80870670e-02,  6.97042271e-02,\n",
       "          5.82442209e-02, -9.01642293e-02,  5.58999851e-02,\n",
       "         -8.82011652e-02, -8.18198621e-02,  6.86229691e-02,\n",
       "         -9.18754637e-02, -5.93710057e-02, -1.83419883e-03,\n",
       "          4.89004776e-02,  6.05649576e-02,  4.27970812e-02,\n",
       "         -9.36555937e-02, -3.25904489e-02,  7.69812092e-02,\n",
       "         -2.49257833e-02, -8.27727988e-02,  8.53718817e-03,\n",
       "         -1.02145188e-01, -8.09666812e-02, -6.21454827e-02,\n",
       "         -2.08153054e-02, -1.82985216e-02,  5.82737997e-02,\n",
       "          3.42009887e-02,  3.45801786e-02, -9.63156968e-02,\n",
       "          5.91583624e-02, -7.70513937e-02, -5.03677651e-02,\n",
       "         -6.83989525e-02,  1.16711035e-02,  1.00935303e-01,\n",
       "         -9.08624753e-02,  2.77828500e-02, -4.08336967e-02,\n",
       "         -8.81578475e-02,  1.83318034e-02, -6.47127330e-02,\n",
       "         -1.82761922e-02, -7.13463128e-02,  1.03466786e-01,\n",
       "         -1.06531009e-01, -6.29175156e-02, -8.68344307e-02,\n",
       "         -2.89405659e-02, -8.19484964e-02, -6.29990250e-02,\n",
       "          4.68079969e-02, -6.49823844e-02,  6.99597374e-02,\n",
       "          6.51553199e-02,  9.45362672e-02,  5.08361831e-02,\n",
       "          1.46437883e-02, -1.50422826e-02, -8.11360776e-04,\n",
       "         -9.68487635e-02,  8.31247345e-02, -1.02466255e-01,\n",
       "         -3.26611251e-02, -1.05237409e-01, -1.04206130e-01,\n",
       "          5.85105792e-02,  5.82686737e-02,  4.54109907e-03,\n",
       "          4.46691737e-02, -4.29034233e-03,  7.10723475e-02,\n",
       "         -8.98386538e-02, -6.09940812e-02,  2.27284357e-02,\n",
       "         -5.32711111e-02,  5.85987344e-02, -9.33075026e-02,\n",
       "         -2.08074152e-02, -6.35323748e-02, -9.73939225e-02,\n",
       "          8.89094099e-02, -3.49458009e-02,  3.86432037e-02,\n",
       "         -5.50078973e-02, -4.74311784e-02,  2.56045237e-02,\n",
       "          4.69022170e-02,  8.09075683e-03, -1.21699050e-02,\n",
       "          4.07978818e-02,  2.65344977e-03,  7.69263878e-02,\n",
       "         -5.05999513e-02,  5.46890423e-02,  9.64365676e-02,\n",
       "          4.68081981e-03, -3.07223424e-02, -2.73039043e-02,\n",
       "          7.04785958e-02, -8.69088471e-02, -4.26399186e-02,\n",
       "         -8.42022598e-02, -9.59672704e-02,  4.44878563e-02,\n",
       "         -3.87721285e-02,  1.41836703e-04, -8.65038484e-02,\n",
       "          2.65225098e-02, -6.92256540e-02, -6.77039325e-02,\n",
       "          6.95587620e-02, -1.95738375e-02, -2.23291591e-02,\n",
       "         -7.25942999e-02,  4.71793488e-02,  1.24767646e-02,\n",
       "          7.62547031e-02, -6.91611096e-02,  9.80874896e-03,\n",
       "          4.81562540e-02, -8.16730186e-02,  1.31369978e-02,\n",
       "         -1.07160635e-01, -8.51830468e-02, -3.79527584e-02,\n",
       "          2.60973647e-02, -1.01198927e-01,  1.00980774e-02,\n",
       "         -3.46954912e-03, -5.59544563e-03,  2.91644707e-02,\n",
       "          4.67532501e-02,  1.76432356e-02, -4.82863188e-02,\n",
       "          4.67715040e-02,  4.66862395e-02, -8.83007199e-02,\n",
       "          1.01626836e-01,  2.28090361e-02, -8.48323777e-02,\n",
       "         -9.35476869e-02, -9.76464525e-02,  1.37714967e-02,\n",
       "         -4.42944020e-02, -3.91408801e-04, -7.34608173e-02,\n",
       "          9.14290324e-02,  6.36183992e-02, -4.76819575e-02,\n",
       "          1.07077949e-01,  4.08915654e-02,  6.64187893e-02,\n",
       "          5.40082678e-02,  9.16492566e-02,  5.56855574e-02,\n",
       "         -6.64311647e-02, -8.80967826e-03, -3.93229350e-02,\n",
       "         -9.38026458e-02,  5.93680367e-02, -6.81624040e-02,\n",
       "         -3.35562080e-02,  9.66318324e-02,  1.07217900e-01,\n",
       "          7.36560002e-02,  3.30439955e-03,  6.39118254e-03,\n",
       "          5.79083636e-02, -6.95471764e-02,  8.00479576e-02,\n",
       "          1.71083137e-02, -2.99107805e-02,  6.02842122e-03,\n",
       "         -9.05429795e-02, -6.52567893e-02,  2.79629454e-02,\n",
       "          3.35954204e-02, -5.64288497e-02,  8.17094520e-02,\n",
       "          8.66816863e-02,  8.32844153e-02,  5.98912686e-03,\n",
       "          4.52944562e-02,  9.83948186e-02, -1.01604000e-01,\n",
       "          6.63584545e-02, -3.19033712e-02, -8.53109658e-02,\n",
       "         -1.00358561e-01, -6.18009530e-02,  7.54613951e-02,\n",
       "         -2.14573890e-02, -6.93424791e-02,  6.51203617e-02,\n",
       "         -6.63965046e-02,  9.53188911e-02, -5.54817915e-02,\n",
       "          2.60992572e-02, -3.91904861e-02, -7.57656246e-02,\n",
       "         -7.02302307e-02,  6.38177320e-02,  4.36864272e-02,\n",
       "          3.98382545e-05,  6.55809417e-02,  7.95181170e-02,\n",
       "          3.74986604e-02, -1.05901174e-01,  7.57661685e-02,\n",
       "          5.88344857e-02,  6.15151599e-02,  9.49557945e-02,\n",
       "          2.25033090e-02, -2.04357132e-02, -8.56240094e-02,\n",
       "         -6.87668622e-02,  7.12231621e-02,  9.10211280e-02,\n",
       "          4.32054475e-02,  6.63782582e-02, -8.71265456e-02,\n",
       "          9.65600982e-02, -8.43325257e-02,  4.06620279e-02,\n",
       "          8.80330801e-04, -4.41841483e-02,  7.09583089e-02,\n",
       "          1.04769938e-01, -6.08335733e-02,  9.27069411e-02,\n",
       "         -6.12210371e-02,  6.01383969e-02,  6.28474876e-02,\n",
       "         -3.43288109e-02,  1.07077561e-01, -6.52038008e-02,\n",
       "          7.04231039e-02,  5.86909875e-02,  9.17707309e-02,\n",
       "          4.66432348e-02, -1.52882412e-02,  1.81450173e-02,\n",
       "         -6.21371046e-02,  1.03681035e-01, -1.01937957e-01,\n",
       "         -5.95349930e-02,  1.04296796e-01, -6.11986294e-02,\n",
       "          4.73184511e-02, -4.09144163e-03,  4.56287190e-02,\n",
       "         -3.49143222e-02, -1.98181197e-02, -9.43777114e-02,\n",
       "          3.17358747e-02,  6.64459094e-02, -7.63602182e-02,\n",
       "          3.09605896e-03,  3.68938670e-02, -4.87042069e-02,\n",
       "         -2.39998102e-04,  8.24162364e-03,  2.95200124e-02,\n",
       "         -1.90241709e-02,  7.89282992e-02, -2.59187147e-02,\n",
       "          1.54071301e-02, -3.60285416e-02, -5.74487261e-02,\n",
       "          8.45779851e-02,  6.69863075e-03, -2.59480029e-02,\n",
       "         -9.76779088e-02,  1.06880739e-02, -1.14005804e-03,\n",
       "         -5.20548895e-02, -5.80119863e-02, -8.82187486e-02,\n",
       "         -2.57201716e-02,  1.75682977e-02, -2.02613547e-02,\n",
       "         -1.92537159e-03,  6.41071871e-02,  6.33500591e-02,\n",
       "          2.72848979e-02, -1.97155550e-02,  6.98331222e-02,\n",
       "          5.83551824e-04, -5.23261391e-02, -2.01275349e-02,\n",
       "          4.66221198e-02,  1.17769241e-02, -1.90398172e-02,\n",
       "          3.71288881e-02,  4.47387770e-02, -7.21382275e-02,\n",
       "         -2.62359083e-02,  3.88388410e-02,  7.28750154e-02,\n",
       "          2.52562091e-02,  7.56438002e-02, -1.05509482e-01,\n",
       "         -4.36493009e-02, -1.01304352e-02,  9.38945636e-02,\n",
       "          6.25244901e-02,  8.68446752e-02, -4.41334024e-02,\n",
       "          1.01310544e-01,  5.11891320e-02,  1.05450802e-01,\n",
       "         -7.38743395e-02, -6.67327866e-02,  3.05683836e-02,\n",
       "         -7.24390596e-02, -3.56958434e-02,  7.25306198e-02,\n",
       "         -3.84007096e-02,  5.94589785e-02,  9.43485722e-02,\n",
       "          8.07567164e-02, -9.91171151e-02, -3.27392295e-02,\n",
       "          4.67750654e-02, -6.69840276e-02, -1.42350793e-02,\n",
       "         -5.86206801e-02,  8.94719139e-02,  8.44503567e-02,\n",
       "          7.97770396e-02, -1.94146484e-03,  7.45299384e-02,\n",
       "          9.16625187e-02, -9.91274044e-02,  7.18775168e-02,\n",
       "         -5.68220355e-02, -6.29059225e-03,  5.89105412e-02,\n",
       "          2.23494098e-02,  7.18094483e-02, -3.16995978e-02,\n",
       "          9.18043777e-02,  5.79356179e-02,  3.94254550e-02,\n",
       "         -7.24277049e-02,  9.89080891e-02,  8.02921280e-02,\n",
       "         -4.04090285e-02,  6.90256059e-03, -3.53139266e-02,\n",
       "         -8.34084600e-02,  8.49291757e-02, -1.05867140e-01,\n",
       "         -1.45090893e-02,  5.81211597e-03, -7.19553381e-02,\n",
       "          8.26738402e-02, -5.21932729e-02, -7.72489309e-02,\n",
       "         -1.08097389e-01, -5.62406778e-02,  2.99573466e-02,\n",
       "         -8.89147446e-02, -8.08888599e-02, -7.94406980e-03,\n",
       "         -7.17840046e-02,  7.82471672e-02,  9.80657563e-02,\n",
       "         -9.61602405e-02, -3.35860401e-02, -5.38840592e-02,\n",
       "         -8.54900330e-02, -6.94272071e-02, -8.74079317e-02,\n",
       "         -6.22287951e-02, -8.15417469e-02,  7.41811469e-02,\n",
       "          1.53487548e-02,  4.29167971e-02, -1.46212727e-02,\n",
       "         -3.59314680e-02,  4.89866510e-02,  6.21613190e-02,\n",
       "          2.88705528e-03, -1.06685847e-01, -6.43120185e-02,\n",
       "         -1.01561397e-01, -7.79817998e-03]], dtype=float32),\n",
       " array([0., 0., 0., 0., 0., 0., 0., 0., 0., 0., 0., 0., 0., 0., 0., 0., 0.,\n",
       "        0., 0., 0., 0., 0., 0., 0., 0., 0., 0., 0., 0., 0., 0., 0., 0., 0.,\n",
       "        0., 0., 0., 0., 0., 0., 0., 0., 0., 0., 0., 0., 0., 0., 0., 0., 0.,\n",
       "        0., 0., 0., 0., 0., 0., 0., 0., 0., 0., 0., 0., 0., 0., 0., 0., 0.,\n",
       "        0., 0., 0., 0., 0., 0., 0., 0., 0., 0., 0., 0., 0., 0., 0., 0., 0.,\n",
       "        0., 0., 0., 0., 0., 0., 0., 0., 0., 0., 0., 0., 0., 0., 0., 0., 0.,\n",
       "        0., 0., 0., 0., 0., 0., 0., 0., 0., 0., 0., 0., 0., 0., 0., 0., 0.,\n",
       "        0., 0., 0., 0., 0., 0., 0., 0., 0., 0., 0., 0., 0., 0., 0., 0., 0.,\n",
       "        0., 0., 0., 0., 0., 0., 0., 0., 0., 0., 0., 0., 0., 0., 0., 0., 0.,\n",
       "        0., 0., 0., 0., 0., 0., 0., 0., 0., 0., 0., 0., 0., 0., 0., 0., 0.,\n",
       "        0., 0., 0., 0., 0., 0., 0., 0., 0., 0., 0., 0., 0., 0., 0., 0., 0.,\n",
       "        0., 0., 0., 0., 0., 0., 0., 0., 0., 0., 0., 0., 0., 0., 0., 0., 0.,\n",
       "        0., 0., 0., 0., 0., 0., 0., 0., 0., 0., 0., 0., 0., 0., 0., 0., 0.,\n",
       "        0., 0., 0., 0., 0., 0., 0., 0., 0., 0., 0., 0., 0., 0., 0., 0., 0.,\n",
       "        0., 0., 0., 0., 0., 0., 0., 0., 0., 0., 0., 0., 0., 0., 0., 0., 0.,\n",
       "        0., 0., 0., 0., 0., 0., 0., 0., 0., 0., 0., 0., 0., 0., 0., 0., 0.,\n",
       "        0., 0., 0., 0., 0., 0., 0., 0., 0., 0., 0., 0., 0., 0., 0., 0., 0.,\n",
       "        0., 0., 0., 0., 0., 0., 0., 0., 0., 0., 0., 0., 0., 0., 0., 0., 0.,\n",
       "        0., 0., 0., 0., 0., 0., 0., 0., 0., 0., 0., 0., 0., 0., 0., 0., 0.,\n",
       "        0., 0., 0., 0., 0., 0., 0., 0., 0., 0., 0., 0., 0., 0., 0., 0., 0.,\n",
       "        0., 0., 0., 0., 0., 0., 0., 0., 0., 0., 0., 0., 0., 0., 0., 0., 0.,\n",
       "        0., 0., 0., 0., 0., 0., 0., 0., 0., 0., 0., 0., 0., 0., 0., 0., 0.,\n",
       "        0., 0., 0., 0., 0., 0., 0., 0., 0., 0., 0., 0., 0., 0., 0., 0., 0.,\n",
       "        0., 0., 0., 0., 0., 0., 0., 0., 0., 0., 0., 0., 0., 0., 0., 0., 0.,\n",
       "        0., 0., 0., 0., 0., 0., 0., 0., 0., 0., 0., 0., 0., 0., 0., 0., 0.,\n",
       "        0., 0., 0., 0., 0., 0., 0., 0., 0., 0., 0., 0., 0., 0., 0., 0., 0.,\n",
       "        0., 0., 0., 0., 0., 0., 0., 0., 0., 0., 0., 0., 0., 0., 0., 0., 0.,\n",
       "        0., 0., 0., 0., 0., 0., 0., 0., 0., 0., 0., 0., 0., 0., 0., 0., 0.,\n",
       "        0., 0., 0., 0., 0., 0., 0., 0., 0., 0., 0., 0., 0., 0., 0., 0., 0.,\n",
       "        0., 0., 0., 0., 0., 0., 0., 0., 0., 0., 0., 0., 0., 0., 0., 0., 0.,\n",
       "        0., 0.], dtype=float32),\n",
       " array([[ 0.02615321,  0.03707753, -0.07544075, ...,  0.059733  ,\n",
       "          0.03480577, -0.05333585],\n",
       "        [ 0.04204103,  0.02004647, -0.01846509, ..., -0.00601079,\n",
       "         -0.06036509,  0.00537778],\n",
       "        [ 0.07631778,  0.04347449, -0.00528739, ...,  0.07522213,\n",
       "          0.01724175, -0.05924535],\n",
       "        ...,\n",
       "        [-0.00578088, -0.0025329 ,  0.07340591, ...,  0.0253058 ,\n",
       "          0.07212908,  0.01397691],\n",
       "        [ 0.04298743,  0.06790444,  0.0088703 , ..., -0.04086563,\n",
       "          0.05139431, -0.05016205],\n",
       "        [-0.07357352, -0.06788262,  0.01492338, ...,  0.05815246,\n",
       "          0.02140655,  0.06672012]], dtype=float32),\n",
       " array([0., 0., 0., 0., 0., 0., 0., 0., 0., 0., 0., 0., 0., 0., 0., 0., 0.,\n",
       "        0., 0., 0., 0., 0., 0., 0., 0., 0., 0., 0., 0., 0., 0., 0., 0., 0.,\n",
       "        0., 0., 0., 0., 0., 0., 0., 0., 0., 0., 0., 0., 0., 0., 0., 0., 0.,\n",
       "        0., 0., 0., 0., 0., 0., 0., 0., 0., 0., 0., 0., 0., 0., 0., 0., 0.,\n",
       "        0., 0., 0., 0., 0., 0., 0., 0., 0., 0., 0., 0., 0., 0., 0., 0., 0.,\n",
       "        0., 0., 0., 0., 0., 0., 0., 0., 0., 0., 0., 0., 0., 0., 0., 0., 0.,\n",
       "        0., 0., 0., 0., 0., 0., 0., 0., 0., 0., 0., 0., 0., 0., 0., 0., 0.,\n",
       "        0., 0., 0., 0., 0., 0., 0., 0., 0., 0., 0., 0., 0., 0., 0., 0., 0.,\n",
       "        0., 0., 0., 0., 0., 0., 0., 0., 0., 0., 0., 0., 0., 0., 0., 0., 0.,\n",
       "        0., 0., 0., 0., 0., 0., 0., 0., 0., 0., 0., 0., 0., 0., 0., 0., 0.,\n",
       "        0., 0., 0., 0., 0., 0., 0., 0., 0., 0., 0., 0., 0., 0., 0., 0., 0.,\n",
       "        0., 0., 0., 0., 0., 0., 0., 0., 0., 0., 0., 0., 0., 0., 0., 0., 0.,\n",
       "        0., 0., 0., 0., 0., 0., 0., 0., 0., 0., 0., 0., 0., 0., 0., 0., 0.,\n",
       "        0., 0., 0., 0., 0., 0., 0., 0., 0., 0., 0., 0., 0., 0., 0., 0., 0.,\n",
       "        0., 0., 0., 0., 0., 0., 0., 0., 0., 0., 0., 0., 0., 0., 0., 0., 0.,\n",
       "        0., 0., 0., 0., 0., 0., 0., 0., 0., 0., 0., 0., 0., 0., 0., 0., 0.,\n",
       "        0., 0., 0., 0., 0., 0., 0., 0., 0., 0., 0., 0., 0., 0., 0., 0., 0.,\n",
       "        0., 0., 0., 0., 0., 0., 0., 0., 0., 0., 0., 0., 0., 0., 0., 0., 0.,\n",
       "        0., 0., 0., 0., 0., 0., 0., 0., 0., 0., 0., 0., 0., 0., 0., 0., 0.,\n",
       "        0., 0., 0., 0., 0., 0., 0., 0., 0., 0., 0., 0., 0., 0., 0., 0., 0.,\n",
       "        0., 0., 0., 0., 0., 0., 0., 0., 0., 0., 0., 0., 0., 0., 0., 0., 0.,\n",
       "        0., 0., 0., 0., 0., 0., 0., 0., 0., 0., 0., 0., 0., 0., 0., 0., 0.,\n",
       "        0., 0., 0., 0., 0., 0., 0., 0., 0., 0., 0., 0., 0., 0., 0., 0., 0.,\n",
       "        0., 0., 0., 0., 0., 0., 0., 0., 0., 0., 0., 0., 0., 0., 0., 0., 0.,\n",
       "        0., 0., 0., 0., 0., 0., 0., 0., 0., 0., 0., 0., 0., 0., 0., 0., 0.,\n",
       "        0., 0., 0., 0., 0., 0., 0., 0., 0., 0., 0., 0., 0., 0., 0., 0., 0.,\n",
       "        0., 0., 0., 0., 0., 0., 0., 0., 0., 0., 0., 0., 0., 0., 0., 0., 0.,\n",
       "        0., 0., 0., 0., 0., 0., 0., 0., 0., 0., 0., 0., 0., 0., 0., 0., 0.,\n",
       "        0., 0., 0., 0., 0., 0., 0., 0., 0., 0., 0., 0., 0., 0., 0., 0., 0.,\n",
       "        0., 0., 0., 0., 0., 0., 0., 0., 0., 0., 0., 0., 0., 0., 0., 0., 0.,\n",
       "        0., 0.], dtype=float32),\n",
       " array([[-0.03992558, -0.09358184,  0.08081933, ...,  0.03768813,\n",
       "          0.07337641, -0.10217466],\n",
       "        [ 0.09722447, -0.01386882,  0.10596453, ..., -0.00715189,\n",
       "          0.01927776,  0.01535919],\n",
       "        [-0.01081431,  0.01122705,  0.01447047, ..., -0.06832494,\n",
       "         -0.02377044,  0.06973045],\n",
       "        ...,\n",
       "        [-0.00649516,  0.05081897,  0.00512972, ..., -0.07013483,\n",
       "         -0.08428931,  0.1050181 ],\n",
       "        [-0.01133187,  0.02597036, -0.09059045, ..., -0.07713735,\n",
       "         -0.03968988, -0.01015161],\n",
       "        [-0.040849  , -0.02492952,  0.00591554, ...,  0.01450054,\n",
       "         -0.08267002, -0.08362278]], dtype=float32),\n",
       " array([0., 0., 0., 0., 0., 0., 0., 0., 0., 0.], dtype=float32),\n",
       " array([[-0.19859353, -0.1736925 ,  0.18161461,  0.23403391,  0.22537497,\n",
       "         -0.00525427,  0.22472253,  0.11885196, -0.05217214, -0.2546999 ,\n",
       "          0.22636983,  0.03377822, -0.0593472 , -0.07158299, -0.18053313,\n",
       "         -0.17016593,  0.13479456,  0.20445344,  0.24761131, -0.14308973,\n",
       "         -0.1197515 , -0.07107326,  0.23603758,  0.04128599,  0.08289105,\n",
       "          0.09595442,  0.11643824, -0.01077977,  0.22086033, -0.09304184,\n",
       "         -0.04411066, -0.23180708,  0.00889999,  0.11479619, -0.01883787,\n",
       "         -0.2699426 , -0.12945746, -0.28235146, -0.02579758,  0.16800237,\n",
       "          0.14072338, -0.19474176,  0.02005768,  0.12272009, -0.04480991,\n",
       "          0.0013203 , -0.02462336,  0.23988149, -0.27016997,  0.28331318,\n",
       "         -0.22991168, -0.05763768,  0.2534878 , -0.00758064,  0.0775615 ,\n",
       "          0.11324346, -0.26927894,  0.09829307, -0.05298015,  0.18366987,\n",
       "          0.27470145, -0.12234513,  0.09693146,  0.02651477],\n",
       "        [ 0.10973448, -0.06356114,  0.17524979,  0.14901656, -0.20311894,\n",
       "         -0.1989796 ,  0.00716719, -0.0260292 , -0.11371548, -0.03768495,\n",
       "         -0.12241241,  0.13805413, -0.11064723,  0.24218586,  0.14378226,\n",
       "         -0.18755096, -0.2650603 ,  0.22804663, -0.23611669, -0.00760812,\n",
       "         -0.0695831 ,  0.19327033, -0.11800723, -0.09315507,  0.17592067,\n",
       "          0.22524348,  0.12088367, -0.04339184,  0.14719558, -0.01167992,\n",
       "          0.24086145, -0.22943911, -0.01107177,  0.2810482 ,  0.14580575,\n",
       "          0.10435203,  0.15356284, -0.23143336,  0.2575985 , -0.15597439,\n",
       "         -0.26137495,  0.10464916, -0.2750836 ,  0.08883578, -0.07450472,\n",
       "         -0.05025055,  0.08852267,  0.1877582 ,  0.08261794, -0.00211367,\n",
       "         -0.07161203,  0.05781278,  0.05590394,  0.03990275, -0.12907776,\n",
       "         -0.22516224, -0.08162601,  0.15934727, -0.22654766, -0.17026429,\n",
       "          0.0483368 ,  0.2639275 , -0.16337076,  0.02407312],\n",
       "        [-0.13304628,  0.09086367,  0.06788594, -0.11951742, -0.04121009,\n",
       "          0.23787585, -0.26624015,  0.2403675 ,  0.04081932, -0.11320814,\n",
       "         -0.11082083,  0.22018626,  0.09031561, -0.06511302,  0.10407129,\n",
       "          0.07496718, -0.20406613, -0.04665582,  0.12216178, -0.15370947,\n",
       "          0.10618055,  0.1562069 , -0.12048788,  0.0426558 ,  0.0454036 ,\n",
       "         -0.01073036, -0.09883901, -0.08170958, -0.08111006,  0.17362073,\n",
       "          0.23276088,  0.16593501, -0.14462109, -0.20036542,  0.13083702,\n",
       "         -0.08060381, -0.16512197, -0.13517705, -0.19238017,  0.26770052,\n",
       "         -0.0280396 ,  0.1932112 ,  0.26628748, -0.21059066,  0.24913129,\n",
       "         -0.02694857, -0.09200761,  0.00385541,  0.03202546, -0.10179749,\n",
       "          0.18894899,  0.18484402,  0.142786  ,  0.17566264, -0.05911046,\n",
       "         -0.27905434,  0.04874605, -0.24770169, -0.21743497, -0.0419029 ,\n",
       "         -0.10328799,  0.08581197,  0.01734328,  0.03572458],\n",
       "        [ 0.00038499, -0.06587324, -0.26043773, -0.1514876 ,  0.09364393,\n",
       "         -0.1622085 , -0.1982948 , -0.03220591,  0.09272689, -0.14257343,\n",
       "          0.05562007,  0.2106817 ,  0.05988482, -0.14593929,  0.08005765,\n",
       "          0.23090991, -0.2747356 , -0.13681528, -0.21681312, -0.11769229,\n",
       "          0.11277992,  0.23987094, -0.02480727,  0.0863699 , -0.23363167,\n",
       "         -0.01791137,  0.2377378 , -0.22037905,  0.10480341, -0.20273387,\n",
       "         -0.06397337,  0.21931317, -0.0723988 , -0.23239216,  0.18575522,\n",
       "          0.08678591, -0.09829821, -0.22726715,  0.09156749,  0.03583926,\n",
       "          0.23822197,  0.11519486,  0.0457269 , -0.17084217,  0.19440007,\n",
       "         -0.18172038,  0.08996755, -0.20367399,  0.18218637, -0.23928867,\n",
       "          0.16085744,  0.25167933, -0.26570904,  0.20223448,  0.23946157,\n",
       "         -0.15634452,  0.23831764,  0.20248607,  0.03345275,  0.11793932,\n",
       "         -0.11542785, -0.22241043,  0.2302073 , -0.01442236],\n",
       "        [ 0.15133253, -0.13895595, -0.02202308,  0.08466974,  0.1923734 ,\n",
       "          0.08257639, -0.22684963,  0.21622452, -0.03721794, -0.24745436,\n",
       "          0.08783889, -0.02438691,  0.21500468, -0.23427057,  0.1932768 ,\n",
       "          0.00836536,  0.22930732, -0.13844971, -0.24626407, -0.07593752,\n",
       "          0.20155734, -0.03970404, -0.03075776, -0.2245951 , -0.0530915 ,\n",
       "          0.05472034, -0.1262237 , -0.13710286,  0.15696576,  0.15944853,\n",
       "         -0.05077593, -0.12274499,  0.21795806,  0.04584605, -0.15236147,\n",
       "          0.16239113,  0.23385021,  0.04322958,  0.18569663,  0.26063415,\n",
       "          0.22493783, -0.0979481 , -0.04020004,  0.2328172 , -0.19006713,\n",
       "         -0.21916023, -0.1224678 ,  0.14860415,  0.00423405,  0.24744174,\n",
       "          0.12245619,  0.02735856,  0.2206522 ,  0.06831828, -0.22293264,\n",
       "          0.0303672 , -0.2698837 , -0.07757813,  0.24403879,  0.19038472,\n",
       "          0.09650391, -0.2798467 , -0.14942227, -0.02242103],\n",
       "        [-0.01479614,  0.13550082,  0.07785884,  0.23602703,  0.23582241,\n",
       "          0.04089528,  0.17826697,  0.14446887, -0.00351748,  0.03943831,\n",
       "         -0.13958807,  0.21249843,  0.07795748, -0.06197728, -0.06761514,\n",
       "          0.00855082, -0.11000764, -0.02322742, -0.09881736, -0.0136779 ,\n",
       "         -0.10786419,  0.2627913 ,  0.11746547, -0.13331893,  0.20340514,\n",
       "         -0.14121306, -0.21835282, -0.03941497,  0.27034613,  0.21432859,\n",
       "         -0.21566626, -0.24255285,  0.07760921,  0.18175724,  0.1221782 ,\n",
       "          0.04017377,  0.0268853 , -0.27176136,  0.23551747, -0.05568261,\n",
       "          0.2531288 ,  0.14825568, -0.21675697,  0.08158025,  0.24731538,\n",
       "         -0.07017992, -0.20141947,  0.13861224,  0.02112287,  0.0339689 ,\n",
       "         -0.03556572,  0.01728347, -0.23321436, -0.2061142 , -0.18221575,\n",
       "         -0.19580029, -0.22425571,  0.20695126,  0.06810766,  0.21350297,\n",
       "         -0.00732067, -0.0859648 , -0.19188187,  0.25915357],\n",
       "        [-0.09493227, -0.08215548, -0.12062211, -0.25938946,  0.2476519 ,\n",
       "          0.00974697,  0.26489875,  0.09825695, -0.00287157,  0.14168149,\n",
       "         -0.20726946, -0.10160713, -0.16396235,  0.16612035, -0.03366783,\n",
       "         -0.09169851,  0.24847189,  0.13144574, -0.14105937, -0.22445157,\n",
       "         -0.03363523, -0.2727253 ,  0.21765235,  0.27649304,  0.03266761,\n",
       "          0.2040376 , -0.0493398 , -0.12784578, -0.19733214, -0.28193718,\n",
       "          0.05813754,  0.10455459,  0.26476   ,  0.07769978,  0.27295694,\n",
       "          0.00890413, -0.20710137,  0.22368649,  0.20693111,  0.06724948,\n",
       "          0.28267244,  0.19025987,  0.02271533,  0.0549002 , -0.01334122,\n",
       "         -0.16640222, -0.13905318,  0.07741982,  0.24127379,  0.13229021,\n",
       "          0.21088314, -0.00992078, -0.13875589,  0.14497146, -0.10515949,\n",
       "          0.04815024, -0.02451229,  0.25781974,  0.22293374,  0.19517511,\n",
       "         -0.13427086,  0.2793341 ,  0.13845894, -0.1173043 ],\n",
       "        [ 0.02292144, -0.06384864,  0.0677937 , -0.1521263 , -0.19683166,\n",
       "          0.2210168 , -0.11456776,  0.02473667,  0.25499842, -0.01865613,\n",
       "          0.11914551, -0.16502136,  0.02459633,  0.21406916, -0.27584964,\n",
       "         -0.1998001 , -0.10844457, -0.11696628, -0.06756829, -0.14957285,\n",
       "          0.11628142,  0.16095147, -0.13755764, -0.00309548, -0.03631264,\n",
       "         -0.21947117, -0.18806094,  0.12669864,  0.22567168,  0.22146991,\n",
       "         -0.18771382, -0.27181512,  0.27123764,  0.13478893, -0.15420635,\n",
       "         -0.07969871,  0.07237071, -0.19989046,  0.16330388, -0.1710611 ,\n",
       "          0.08174816, -0.15281014, -0.23514153,  0.02478379, -0.16973522,\n",
       "          0.2789199 , -0.15530086,  0.25900486, -0.02494991, -0.13232204,\n",
       "          0.20311329,  0.21177804,  0.26471457,  0.00359532,  0.04396245,\n",
       "         -0.05338213, -0.04004885, -0.24576446, -0.2410829 ,  0.1621271 ,\n",
       "          0.00564355,  0.00232798, -0.26941532,  0.14898989],\n",
       "        [-0.27586004,  0.06003553,  0.02369979,  0.2516689 , -0.18963203,\n",
       "          0.02828231, -0.15214151,  0.01804838,  0.258522  , -0.04473992,\n",
       "          0.27669415,  0.10129911, -0.10643281, -0.14984605, -0.02708638,\n",
       "         -0.11403584,  0.2410796 , -0.16298258,  0.05739212, -0.26358366,\n",
       "         -0.20440882, -0.08334693, -0.22920138,  0.14049011, -0.27888095,\n",
       "          0.1346359 , -0.08063945,  0.09090877,  0.04778469, -0.19005084,\n",
       "         -0.0601635 ,  0.05297628, -0.24896124, -0.16756475,  0.21475029,\n",
       "          0.23529169, -0.13913973,  0.25640485, -0.23553541, -0.15640752,\n",
       "          0.18433404, -0.18325227, -0.25087598,  0.11817369,  0.18170986,\n",
       "         -0.2450145 , -0.04580802,  0.10244325,  0.06032637,  0.19862244,\n",
       "         -0.10730824, -0.06576292, -0.2635123 ,  0.19751462, -0.1033833 ,\n",
       "         -0.25818267,  0.09172839,  0.13508391, -0.17511164,  0.2501407 ,\n",
       "          0.18982157, -0.22064537,  0.26328847, -0.15877882],\n",
       "        [-0.07756761, -0.11401181, -0.16867793,  0.13029453,  0.12402695,\n",
       "          0.08280763,  0.15040335, -0.27326667, -0.20231567,  0.0802632 ,\n",
       "          0.10377347, -0.05767529,  0.1680139 ,  0.2787253 ,  0.21294275,\n",
       "          0.03868333,  0.24096671,  0.02246702, -0.26218894,  0.28017226,\n",
       "         -0.07477105, -0.2193749 ,  0.23840699,  0.08493349,  0.17014962,\n",
       "         -0.28139374,  0.08440581, -0.03750789,  0.21977934, -0.09440681,\n",
       "         -0.19237319,  0.14130214, -0.07974684, -0.13372192,  0.25367424,\n",
       "         -0.25912946,  0.05736735, -0.19518834, -0.12985808,  0.11204255,\n",
       "          0.07095176,  0.09419039, -0.0060536 , -0.18574205,  0.21328804,\n",
       "          0.13083276, -0.02013731,  0.24199608,  0.2590886 , -0.08398964,\n",
       "         -0.25005823, -0.09368597, -0.09396505,  0.15671554, -0.10010168,\n",
       "          0.02670118, -0.2686615 ,  0.06341803, -0.06308469,  0.23774448,\n",
       "          0.13328335,  0.11873934,  0.15841147, -0.28023455]],\n",
       "       dtype=float32),\n",
       " array([0., 0., 0., 0., 0., 0., 0., 0., 0., 0., 0., 0., 0., 0., 0., 0., 0.,\n",
       "        0., 0., 0., 0., 0., 0., 0., 0., 0., 0., 0., 0., 0., 0., 0., 0., 0.,\n",
       "        0., 0., 0., 0., 0., 0., 0., 0., 0., 0., 0., 0., 0., 0., 0., 0., 0.,\n",
       "        0., 0., 0., 0., 0., 0., 0., 0., 0., 0., 0., 0., 0.], dtype=float32),\n",
       " array([[-0.16067792],\n",
       "        [-0.21873736],\n",
       "        [ 0.16989505],\n",
       "        [ 0.23027337],\n",
       "        [-0.14331345],\n",
       "        [ 0.26046348],\n",
       "        [ 0.04238573],\n",
       "        [-0.26038367],\n",
       "        [-0.17971618],\n",
       "        [ 0.09146649],\n",
       "        [-0.24893495],\n",
       "        [-0.28242767],\n",
       "        [-0.03031796],\n",
       "        [-0.09072675],\n",
       "        [-0.24120022],\n",
       "        [ 0.1425339 ],\n",
       "        [-0.2864868 ],\n",
       "        [ 0.27885097],\n",
       "        [-0.25085807],\n",
       "        [ 0.24569637],\n",
       "        [ 0.13720754],\n",
       "        [-0.2610925 ],\n",
       "        [-0.14685287],\n",
       "        [ 0.04913399],\n",
       "        [-0.2323856 ],\n",
       "        [-0.13024761],\n",
       "        [-0.16841823],\n",
       "        [-0.29037473],\n",
       "        [-0.06546153],\n",
       "        [-0.12241928],\n",
       "        [-0.28966388],\n",
       "        [ 0.05010232],\n",
       "        [ 0.22389191],\n",
       "        [-0.24586906],\n",
       "        [ 0.04989436],\n",
       "        [-0.2134949 ],\n",
       "        [-0.01508176],\n",
       "        [-0.10552602],\n",
       "        [ 0.16450584],\n",
       "        [ 0.16415104],\n",
       "        [-0.02414188],\n",
       "        [ 0.10893968],\n",
       "        [-0.12904724],\n",
       "        [ 0.14729023],\n",
       "        [-0.0495663 ],\n",
       "        [ 0.04304597],\n",
       "        [-0.02846229],\n",
       "        [ 0.02718401],\n",
       "        [ 0.08567885],\n",
       "        [-0.06763522],\n",
       "        [ 0.24360073],\n",
       "        [ 0.04911596],\n",
       "        [ 0.25630283],\n",
       "        [-0.2231563 ],\n",
       "        [-0.09413968],\n",
       "        [ 0.10449713],\n",
       "        [ 0.04315346],\n",
       "        [-0.2031486 ],\n",
       "        [-0.15709513],\n",
       "        [-0.2537246 ],\n",
       "        [-0.18678284],\n",
       "        [-0.24355593],\n",
       "        [-0.24947315],\n",
       "        [ 0.14578557]], dtype=float32),\n",
       " array([0.], dtype=float32)]"
      ]
     },
     "execution_count": 22,
     "metadata": {},
     "output_type": "execute_result"
    }
   ],
   "source": [
    "model.get_weights()"
   ]
  },
  {
   "cell_type": "markdown",
   "id": "309d1e2c-34d1-4a9f-8eaa-4f424273b128",
   "metadata": {},
   "source": [
    "# Compile Model\n",
    "\n",
    "### MLP: Binary Classification"
   ]
  },
  {
   "cell_type": "code",
   "execution_count": 23,
   "id": "ea66b773-baf2-4b24-89e1-34cb5ff77379",
   "metadata": {},
   "outputs": [],
   "source": [
    "model.compile(optimizer='adam', loss='binary_crossentropy', metrics=['accuracy'])"
   ]
  },
  {
   "cell_type": "markdown",
   "id": "4eeb42a1-990e-4cd6-89ce-b79a56a47a9c",
   "metadata": {},
   "source": [
    "### MLP: Multi-Class Classification"
   ]
  },
  {
   "cell_type": "code",
   "execution_count": 24,
   "id": "7aa9a0fd-f335-4489-bd4a-fb9525b83849",
   "metadata": {},
   "outputs": [],
   "source": [
    "model.compile(optimizer='rmsprop', loss='categorical_crossentropy', metrics=['accuracy'])"
   ]
  },
  {
   "cell_type": "markdown",
   "id": "4e589fde-34de-47b9-ad2a-b3f657162409",
   "metadata": {},
   "source": [
    "### MLP: Regression"
   ]
  },
  {
   "cell_type": "code",
   "execution_count": 25,
   "id": "76fcb022-c3cb-4dd3-8940-f7865d687992",
   "metadata": {},
   "outputs": [],
   "source": [
    "model.compile(optimizer='rmsprop', loss='mse', metrics=['mae'])"
   ]
  },
  {
   "cell_type": "markdown",
   "id": "5fb5530c-c639-4384-91a7-5899b77a5f38",
   "metadata": {},
   "source": [
    "### Recurrent Neural Network (RNN)"
   ]
  },
  {
   "cell_type": "code",
   "execution_count": 26,
   "id": "4de20124-4de4-4082-8e13-e5d5f5a0e3de",
   "metadata": {},
   "outputs": [],
   "source": [
    "model3.compile(loss='binary_crossentropy', optimizer='adam', metrics=['accuracy'])"
   ]
  },
  {
   "cell_type": "markdown",
   "id": "0a2ec1be-0ee3-4578-8636-613483cb4985",
   "metadata": {},
   "source": [
    "# Model Training"
   ]
  },
  {
   "cell_type": "code",
   "execution_count": 27,
   "id": "72ca518c-e898-4638-ab44-789f32bbb9aa",
   "metadata": {},
   "outputs": [
    {
     "name": "stdout",
     "output_type": "stream",
     "text": [
      "Epoch 1/15\n",
      "782/782 [==============================] - 323s 404ms/step - loss: 0.4302 - accuracy: 0.7965 - val_loss: 0.3900 - val_accuracy: 0.8335\n",
      "Epoch 2/15\n",
      "782/782 [==============================] - 342s 437ms/step - loss: 0.2527 - accuracy: 0.9004 - val_loss: 0.3827 - val_accuracy: 0.8344\n",
      "Epoch 3/15\n",
      "782/782 [==============================] - 316s 404ms/step - loss: 0.1624 - accuracy: 0.9386 - val_loss: 0.5069 - val_accuracy: 0.8233\n",
      "Epoch 4/15\n",
      "782/782 [==============================] - 323s 413ms/step - loss: 0.1061 - accuracy: 0.9611 - val_loss: 0.6668 - val_accuracy: 0.8183\n",
      "Epoch 5/15\n",
      "782/782 [==============================] - 459s 587ms/step - loss: 0.0707 - accuracy: 0.9751 - val_loss: 0.6048 - val_accuracy: 0.8141\n",
      "Epoch 6/15\n",
      "782/782 [==============================] - 413s 528ms/step - loss: 0.0536 - accuracy: 0.9821 - val_loss: 0.7847 - val_accuracy: 0.8143\n",
      "Epoch 7/15\n",
      "782/782 [==============================] - 345s 441ms/step - loss: 0.0367 - accuracy: 0.9880 - val_loss: 0.7071 - val_accuracy: 0.8121\n",
      "Epoch 8/15\n",
      "782/782 [==============================] - 328s 420ms/step - loss: 0.0349 - accuracy: 0.9889 - val_loss: 0.8291 - val_accuracy: 0.8205\n",
      "Epoch 9/15\n",
      "782/782 [==============================] - 311s 397ms/step - loss: 0.0204 - accuracy: 0.9935 - val_loss: 1.0046 - val_accuracy: 0.8147\n",
      "Epoch 10/15\n",
      "782/782 [==============================] - 303s 388ms/step - loss: 0.0212 - accuracy: 0.9935 - val_loss: 0.8342 - val_accuracy: 0.8038\n",
      "Epoch 11/15\n",
      "782/782 [==============================] - 302s 386ms/step - loss: 0.0198 - accuracy: 0.9934 - val_loss: 1.0071 - val_accuracy: 0.8075\n",
      "Epoch 12/15\n",
      "782/782 [==============================] - 225s 287ms/step - loss: 0.0122 - accuracy: 0.9964 - val_loss: 0.9933 - val_accuracy: 0.8140\n",
      "Epoch 13/15\n",
      "782/782 [==============================] - 143s 183ms/step - loss: 0.0094 - accuracy: 0.9970 - val_loss: 1.1637 - val_accuracy: 0.8072\n",
      "Epoch 14/15\n",
      "782/782 [==============================] - 142s 182ms/step - loss: 0.0092 - accuracy: 0.9969 - val_loss: 1.1532 - val_accuracy: 0.8144\n",
      "Epoch 15/15\n",
      "782/782 [==============================] - 141s 180ms/step - loss: 0.0138 - accuracy: 0.9952 - val_loss: 1.0642 - val_accuracy: 0.8144\n"
     ]
    },
    {
     "data": {
      "text/plain": [
       "<keras.src.callbacks.History at 0x2932b8bf710>"
      ]
     },
     "execution_count": 27,
     "metadata": {},
     "output_type": "execute_result"
    }
   ],
   "source": [
    "model3.fit(x_train4, y_train4, batch_size=32, epochs=15, verbose=1, validation_data=(x_test4, y_test4))"
   ]
  },
  {
   "cell_type": "markdown",
   "id": "ff636585-5061-4772-9241-40cdad8fe3e6",
   "metadata": {},
   "source": [
    "# Evaluate Your Model's Performance"
   ]
  },
  {
   "cell_type": "code",
   "execution_count": 30,
   "id": "e7af302c-74f7-4c93-8cb3-3deeaebbb8df",
   "metadata": {},
   "outputs": [
    {
     "name": "stdout",
     "output_type": "stream",
     "text": [
      "313/313 [==============================] - 45s 142ms/step - loss: 26.7821 - accuracy: 0.0980\n"
     ]
    }
   ],
   "source": [
    "# Reshape the input data to match the expected input shape of the model\n",
    "x_test_flattened = np.reshape(x_test, (x_test.shape[0], -1))\n",
    "\n",
    "# Now, you can evaluate the model\n",
    "score = model3.evaluate(x_test_flattened, y_test, batch_size=32)"
   ]
  },
  {
   "cell_type": "markdown",
   "id": "0bd1d173-867b-4dd1-bfea-aa153338dc41",
   "metadata": {},
   "source": [
    "# Prediction"
   ]
  },
  {
   "cell_type": "code",
   "execution_count": 42,
   "id": "ef24b149-4408-4d41-b03a-311d70bc06f9",
   "metadata": {},
   "outputs": [
    {
     "name": "stdout",
     "output_type": "stream",
     "text": [
      "\u001b[1m782/782\u001b[0m \u001b[32m━━━━━━━━━━━━━━━━━━━━\u001b[0m\u001b[37m\u001b[0m \u001b[1m26s\u001b[0m 33ms/step\n"
     ]
    }
   ],
   "source": [
    "# Predict probabilities for each class\n",
    "predictions = model3.predict(x_test4, batch_size=32)\n",
    "\n",
    "# Get the class with the highest probability for each prediction\n",
    "predicted_classes = np.argmax(predictions, axis=1)"
   ]
  },
  {
   "cell_type": "markdown",
   "id": "97f47c2f-db53-4a10-92c2-59f9ded39ba7",
   "metadata": {},
   "source": [
    "# Save/Reload Models"
   ]
  },
  {
   "cell_type": "code",
   "execution_count": 32,
   "id": "9894a05d-bbb2-44de-a3d7-f73f0720de81",
   "metadata": {},
   "outputs": [],
   "source": [
    "from tensorflow.keras.models import load_model\n",
    "\n",
    "# Save the model\n",
    "model3.save('model_file.h5')\n",
    "\n",
    "# Load the saved model\n",
    "my_model = load_model('model_file.h5')\n"
   ]
  },
  {
   "cell_type": "markdown",
   "id": "7c81dd4d-f73e-414d-b41b-b8cadedabc6f",
   "metadata": {},
   "source": [
    "# Model Fine-Tuning\n",
    "## Optimization Parameters"
   ]
  },
  {
   "cell_type": "code",
   "execution_count": 35,
   "id": "eec959dd",
   "metadata": {},
   "outputs": [],
   "source": [
    "from tensorflow.keras.optimizers import legacy\n",
    "\n",
    "# Use the legacy RMSprop optimizer with the decay parameter\n",
    "opt = legacy.RMSprop(learning_rate=0.0001, decay=1e-6)\n",
    "model2.compile(loss='categorical_crossentropy', optimizer=opt, metrics=['accuracy'])\n"
   ]
  },
  {
   "cell_type": "markdown",
   "id": "6ac42f43-6294-4fc4-8cf1-8240f0d60379",
   "metadata": {},
   "source": [
    "# Early Stopping"
   ]
  },
  {
   "cell_type": "code",
   "execution_count": 49,
   "id": "d2a4ef7b-d667-4d43-858b-c877cf4bc97b",
   "metadata": {},
   "outputs": [
    {
     "name": "stdout",
     "output_type": "stream",
     "text": [
      "Epoch 1/15\n",
      "\u001b[1m782/782\u001b[0m \u001b[32m━━━━━━━━━━━━━━━━━━━━\u001b[0m\u001b[37m\u001b[0m \u001b[1m127s\u001b[0m 163ms/step - accuracy: 0.9981 - loss: 0.0077 - val_accuracy: 0.8096 - val_loss: 1.2463\n",
      "Epoch 2/15\n",
      "\u001b[1m782/782\u001b[0m \u001b[32m━━━━━━━━━━━━━━━━━━━━\u001b[0m\u001b[37m\u001b[0m \u001b[1m119s\u001b[0m 152ms/step - accuracy: 0.9991 - loss: 0.0034 - val_accuracy: 0.8033 - val_loss: 1.2979\n",
      "Epoch 3/15\n",
      "\u001b[1m782/782\u001b[0m \u001b[32m━━━━━━━━━━━━━━━━━━━━\u001b[0m\u001b[37m\u001b[0m \u001b[1m115s\u001b[0m 147ms/step - accuracy: 0.9983 - loss: 0.0049 - val_accuracy: 0.8124 - val_loss: 1.3143\n"
     ]
    },
    {
     "data": {
      "text/plain": [
       "<keras.src.callbacks.history.History at 0x266beeb81d0>"
      ]
     },
     "execution_count": 49,
     "metadata": {},
     "output_type": "execute_result"
    }
   ],
   "source": [
    "from tensorflow.keras.callbacks import EarlyStopping\n",
    "early_stopping_monitor = EarlyStopping(patience=2)\n",
    "model3.fit(x_train4, y_train4, batch_size=32, epochs=15, validation_data=(x_test4, y_test4), callbacks=[early_stopping_monitor])"
   ]
  },
  {
   "cell_type": "code",
   "execution_count": null,
   "id": "43534d6e-4f05-408f-9144-ebc06b366e3b",
   "metadata": {},
   "outputs": [],
   "source": []
  }
 ],
 "metadata": {
  "kernelspec": {
   "display_name": "Python 3 (ipykernel)",
   "language": "python",
   "name": "python3"
  },
  "language_info": {
   "codemirror_mode": {
    "name": "ipython",
    "version": 3
   },
   "file_extension": ".py",
   "mimetype": "text/x-python",
   "name": "python",
   "nbconvert_exporter": "python",
   "pygments_lexer": "ipython3",
   "version": "3.11.5"
  }
 },
 "nbformat": 4,
 "nbformat_minor": 5
}
