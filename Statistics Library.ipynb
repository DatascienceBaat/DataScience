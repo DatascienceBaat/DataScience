{
 "cells": [
  {
   "cell_type": "markdown",
   "id": "d63e1c79",
   "metadata": {},
   "source": [
    "# Important functions from the statistics library"
   ]
  },
  {
   "cell_type": "markdown",
   "id": "ed1fea24",
   "metadata": {},
   "source": [
    "## mean()\n",
    "\n",
    "Arithmetic mean (“average”) of data."
   ]
  },
  {
   "cell_type": "code",
   "execution_count": 2,
   "id": "1ca13303",
   "metadata": {},
   "outputs": [
    {
     "name": "stdout",
     "output_type": "stream",
     "text": [
      "Mean: 5.5\n"
     ]
    }
   ],
   "source": [
    "import statistics\n",
    "\n",
    "data = [1, 2, 3, 4, 5, 6, 7, 8, 9, 10]\n",
    "mean_value = statistics.mean(data)\n",
    "print(\"Mean:\", mean_value)"
   ]
  },
  {
   "cell_type": "markdown",
   "id": "fd6c29bb",
   "metadata": {},
   "source": [
    "## fmean()\n",
    "\n",
    "Fast, floating point arithmetic mean with optional weighting."
   ]
  },
  {
   "cell_type": "code",
   "execution_count": 25,
   "id": "e9cd7dc1",
   "metadata": {},
   "outputs": [
    {
     "name": "stdout",
     "output_type": "stream",
     "text": [
      "Fast Arithmetic Mean: 5.0\n"
     ]
    }
   ],
   "source": [
    "data = [2, 4, 4, 4, 5, 5, 7, 9]\n",
    "fast_mean = statistics.fmean(data)\n",
    "print(\"Fast Arithmetic Mean:\", fast_mean)"
   ]
  },
  {
   "cell_type": "markdown",
   "id": "2550c584",
   "metadata": {},
   "source": [
    "## geometric_mean()\n",
    "\n",
    "Geometric mean of data."
   ]
  },
  {
   "cell_type": "code",
   "execution_count": 26,
   "id": "e6781f24",
   "metadata": {
    "scrolled": true
   },
   "outputs": [
    {
     "name": "stdout",
     "output_type": "stream",
     "text": [
      "Geometric Mean: 4.0\n"
     ]
    }
   ],
   "source": [
    "data = [1, 2, 4, 8, 16]\n",
    "geo_mean = statistics.geometric_mean(data)\n",
    "print(\"Geometric Mean:\", geo_mean)"
   ]
  },
  {
   "cell_type": "markdown",
   "id": "4fa2f4fa",
   "metadata": {},
   "source": [
    "## harmonic_mean()\n",
    "\n",
    "Harmonic mean of data."
   ]
  },
  {
   "cell_type": "code",
   "execution_count": 27,
   "id": "d2798430",
   "metadata": {},
   "outputs": [
    {
     "name": "stdout",
     "output_type": "stream",
     "text": [
      "Harmonic Mean: 4.266666666666667\n"
     ]
    }
   ],
   "source": [
    "data = [2, 4, 8, 16]\n",
    "harm_mean = statistics.harmonic_mean(data)\n",
    "print(\"Harmonic Mean:\", harm_mean)"
   ]
  },
  {
   "cell_type": "markdown",
   "id": "035b7e01",
   "metadata": {},
   "source": [
    "## median()\n",
    "\n",
    "Median (middle value) of data."
   ]
  },
  {
   "cell_type": "code",
   "execution_count": 3,
   "id": "1d02f434",
   "metadata": {},
   "outputs": [
    {
     "name": "stdout",
     "output_type": "stream",
     "text": [
      "Median: 5.5\n"
     ]
    }
   ],
   "source": [
    "data = [1, 2, 3, 4, 5, 6, 7, 8, 9, 10]\n",
    "median_value = statistics.median(data)\n",
    "print(\"Median:\", median_value)"
   ]
  },
  {
   "cell_type": "markdown",
   "id": "1e46216a",
   "metadata": {},
   "source": [
    "## median_low()\n",
    "\n",
    "Low median of data."
   ]
  },
  {
   "cell_type": "code",
   "execution_count": 28,
   "id": "ab2430f9",
   "metadata": {},
   "outputs": [
    {
     "name": "stdout",
     "output_type": "stream",
     "text": [
      "Low Median: 4\n"
     ]
    }
   ],
   "source": [
    "data = [2, 4, 4, 4, 5, 5, 7, 9]\n",
    "low_median = statistics.median_low(data)\n",
    "print(\"Low Median:\", low_median)"
   ]
  },
  {
   "cell_type": "markdown",
   "id": "de88234e",
   "metadata": {},
   "source": [
    "##  median_high()\n",
    "\n",
    "High median of data."
   ]
  },
  {
   "cell_type": "code",
   "execution_count": 29,
   "id": "11cdc698",
   "metadata": {},
   "outputs": [
    {
     "name": "stdout",
     "output_type": "stream",
     "text": [
      "High Median: 5\n"
     ]
    }
   ],
   "source": [
    "data = [2, 4, 4, 4, 5, 5, 7, 9]\n",
    "high_median = statistics.median_high(data)\n",
    "print(\"High Median:\", high_median)"
   ]
  },
  {
   "cell_type": "markdown",
   "id": "aebb07e0",
   "metadata": {},
   "source": [
    "## median_grouped()\n",
    "\n",
    "Median (50th percentile) of grouped data."
   ]
  },
  {
   "cell_type": "code",
   "execution_count": 31,
   "id": "038d5f16",
   "metadata": {},
   "outputs": [
    {
     "name": "stdout",
     "output_type": "stream",
     "text": [
      "Grouped Median: 35.0\n"
     ]
    }
   ],
   "source": [
    "data = [20, 30, 40, 50] \n",
    "freq = [5, 10, 8, 12]    \n",
    "grouped_median = statistics.median_grouped(data, interval=10)\n",
    "print(\"Grouped Median:\", grouped_median)"
   ]
  },
  {
   "cell_type": "markdown",
   "id": "674cec26",
   "metadata": {},
   "source": [
    "## mode()\n",
    "\n",
    "Single mode (most common value) of discrete or nominal data."
   ]
  },
  {
   "cell_type": "code",
   "execution_count": 4,
   "id": "b496ecbf",
   "metadata": {},
   "outputs": [
    {
     "name": "stdout",
     "output_type": "stream",
     "text": [
      "Mode: 1\n"
     ]
    }
   ],
   "source": [
    "data = [1, 2, 3, 4, 5, 6, 7, 8, 9, 10]\n",
    "mode_value = statistics.mode(data)\n",
    "print(\"Mode:\", mode_value)"
   ]
  },
  {
   "cell_type": "markdown",
   "id": "ce807535",
   "metadata": {},
   "source": [
    "## multimode()\n",
    "\n",
    "List of modes (most common values) of discrete or nominal data. "
   ]
  },
  {
   "cell_type": "code",
   "execution_count": 32,
   "id": "0548d630",
   "metadata": {},
   "outputs": [
    {
     "name": "stdout",
     "output_type": "stream",
     "text": [
      "Modes: [3, 5]\n"
     ]
    }
   ],
   "source": [
    "data = [1, 2, 2, 3, 3, 3, 4, 4, 5, 5, 5]  \n",
    "modes = statistics.multimode(data)\n",
    "print(\"Modes:\", modes)"
   ]
  },
  {
   "cell_type": "markdown",
   "id": "821d85e4",
   "metadata": {},
   "source": [
    "## variance()\n",
    "\n",
    "Sample variance of data."
   ]
  },
  {
   "cell_type": "code",
   "execution_count": 5,
   "id": "79a10dec",
   "metadata": {},
   "outputs": [
    {
     "name": "stdout",
     "output_type": "stream",
     "text": [
      "Variance: 9.166666666666666\n"
     ]
    }
   ],
   "source": [
    "data = [1, 2, 3, 4, 5, 6, 7, 8, 9, 10]\n",
    "variance_value = statistics.variance(data)\n",
    "print(\"Variance:\", variance_value)"
   ]
  },
  {
   "cell_type": "markdown",
   "id": "34575bc5",
   "metadata": {},
   "source": [
    "# pvariance() \n",
    "\n",
    "Population variance of data"
   ]
  },
  {
   "cell_type": "code",
   "execution_count": 34,
   "id": "94e39879",
   "metadata": {},
   "outputs": [
    {
     "name": "stdout",
     "output_type": "stream",
     "text": [
      "Population Variance: 200\n"
     ]
    }
   ],
   "source": [
    "data = [10, 20, 30, 40, 50] \n",
    "population_variance = statistics.pvariance(data)\n",
    "print(\"Population Variance:\", population_variance)"
   ]
  },
  {
   "cell_type": "markdown",
   "id": "32a240da",
   "metadata": {},
   "source": [
    "## stdev()\n",
    "\n",
    "Sample standard deviation of data."
   ]
  },
  {
   "cell_type": "code",
   "execution_count": 6,
   "id": "167411d5",
   "metadata": {},
   "outputs": [
    {
     "name": "stdout",
     "output_type": "stream",
     "text": [
      "Standard Deviation: 3.0276503540974917\n"
     ]
    }
   ],
   "source": [
    "data = [1, 2, 3, 4, 5, 6, 7, 8, 9, 10]\n",
    "std_dev_value = statistics.stdev(data)\n",
    "print(\"Standard Deviation:\", std_dev_value)"
   ]
  },
  {
   "cell_type": "markdown",
   "id": "cd69c305",
   "metadata": {},
   "source": [
    "##  pstdev() \n",
    "\n",
    "Population standard deviation of data "
   ]
  },
  {
   "cell_type": "code",
   "execution_count": 33,
   "id": "914bc45f",
   "metadata": {},
   "outputs": [
    {
     "name": "stdout",
     "output_type": "stream",
     "text": [
      "Population Standard Deviation: 14.142135623730951\n"
     ]
    }
   ],
   "source": [
    "data = [10, 20, 30, 40, 50]  \n",
    "population_stdev = statistics.pstdev(data)\n",
    "print(\"Population Standard Deviation:\", population_stdev)"
   ]
  },
  {
   "cell_type": "markdown",
   "id": "88fa313f",
   "metadata": {},
   "source": [
    "## quantiles()\n",
    "\n",
    "Divide data into intervals with equal probability."
   ]
  },
  {
   "cell_type": "code",
   "execution_count": 8,
   "id": "0897c70d",
   "metadata": {},
   "outputs": [
    {
     "name": "stdout",
     "output_type": "stream",
     "text": [
      "Quartiles: [2.75, 5.5, 8.25]\n"
     ]
    }
   ],
   "source": [
    "data = [1, 2, 3, 4, 5, 6, 7, 8, 9, 10]\n",
    "quartiles = statistics.quantiles(data, n=4)\n",
    "print(\"Quartiles:\", quartiles)"
   ]
  },
  {
   "cell_type": "markdown",
   "id": "71ea26e0",
   "metadata": {},
   "source": [
    "## Interquartile Range (IQR) "
   ]
  },
  {
   "cell_type": "code",
   "execution_count": 9,
   "id": "0dcfa6a3",
   "metadata": {},
   "outputs": [
    {
     "name": "stdout",
     "output_type": "stream",
     "text": [
      "Interquartile Range (IQR): 5.5\n"
     ]
    }
   ],
   "source": [
    "data = [1, 2, 3, 4, 5, 6, 7, 8, 9, 10]\n",
    "iqr = statistics.quantiles(data, n=4)[2] - statistics.quantiles(data, n=4)[0]\n",
    "print(\"Interquartile Range (IQR):\", iqr)"
   ]
  },
  {
   "cell_type": "markdown",
   "id": "70e9a311",
   "metadata": {},
   "source": [
    "## correlation()\n",
    "\n",
    "Pearson's Correlation Coefficient"
   ]
  },
  {
   "cell_type": "code",
   "execution_count": 14,
   "id": "76bba348",
   "metadata": {},
   "outputs": [
    {
     "name": "stdout",
     "output_type": "stream",
     "text": [
      "Pearson's Correlation Coefficient: -1.0\n"
     ]
    }
   ],
   "source": [
    "data1 = [1, 2, 3, 4, 5]\n",
    "data2 = [5, 4, 3, 2, 1]\n",
    "correlation = statistics.correlation(data1, data2)\n",
    "print(\"Pearson's Correlation Coefficient:\", correlation)"
   ]
  },
  {
   "cell_type": "markdown",
   "id": "717b4d1a",
   "metadata": {},
   "source": [
    "## covariance()\n",
    "\n",
    "Sample covariance for two variables."
   ]
  },
  {
   "cell_type": "code",
   "execution_count": 15,
   "id": "d2ba4ad0",
   "metadata": {},
   "outputs": [
    {
     "name": "stdout",
     "output_type": "stream",
     "text": [
      "Covariance: -2.5\n"
     ]
    }
   ],
   "source": [
    "data1 = [1, 2, 3, 4, 5]\n",
    "data2 = [5, 4, 3, 2, 1]\n",
    "covariance = statistics.covariance(data1, data2)\n",
    "print(\"Covariance:\", covariance)"
   ]
  },
  {
   "cell_type": "code",
   "execution_count": null,
   "id": "609fc0d4",
   "metadata": {},
   "outputs": [],
   "source": []
  }
 ],
 "metadata": {
  "kernelspec": {
   "display_name": "Python 3 (ipykernel)",
   "language": "python",
   "name": "python3"
  },
  "language_info": {
   "codemirror_mode": {
    "name": "ipython",
    "version": 3
   },
   "file_extension": ".py",
   "mimetype": "text/x-python",
   "name": "python",
   "nbconvert_exporter": "python",
   "pygments_lexer": "ipython3",
   "version": "3.11.5"
  }
 },
 "nbformat": 4,
 "nbformat_minor": 5
}
