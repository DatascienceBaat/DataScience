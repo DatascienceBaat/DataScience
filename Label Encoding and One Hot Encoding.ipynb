{
 "cells": [
  {
   "cell_type": "markdown",
   "id": "3b288e88",
   "metadata": {},
   "source": [
    "# Label Encoding\n",
    "\n",
    "It Assigns a unique integer to each category in the feature. It converts categories into ordinal integers.\n",
    "\n",
    "**Advantages:**\n",
    "\n",
    "- Preserves the ordinality of the categories which can be useful for certain algorithms.\n",
    "- Saves memory as it requires only one column to represent the categories.\n",
    "\n",
    "**Disadvantages:**\n",
    "\n",
    "- When there's no inherent order among categories, Label Encoding may lead to incorrect results.\n",
    "- In non-ordinal data, the assigned numbers may mislead algorithms into assuming an order.\n",
    "\n",
    "**Use Cases:**\n",
    "\n",
    "- Suitable for ordinal categorical variables where the order matters such as low, medium and high."
   ]
  },
  {
   "cell_type": "code",
   "execution_count": 4,
   "id": "6acd260b",
   "metadata": {},
   "outputs": [
    {
     "name": "stdout",
     "output_type": "stream",
     "text": [
      "Original data: ['red', 'green', 'blue', 'blue', 'green']\n",
      "Encoded data: [2 1 0 0 1]\n"
     ]
    }
   ],
   "source": [
    "from sklearn.preprocessing import LabelEncoder\n",
    "\n",
    "# Sample categorical data\n",
    "data = ['red', 'green', 'blue', 'blue', 'green']\n",
    "\n",
    "# Initialize LabelEncoder\n",
    "label_encoder = LabelEncoder()\n",
    "\n",
    "# label encoder and transform categories\n",
    "encoded_data = label_encoder.fit_transform(data)\n",
    "\n",
    "print(\"Original data:\", data)\n",
    "print(\"Encoded data:\", encoded_data)\n"
   ]
  },
  {
   "cell_type": "markdown",
   "id": "7d629238",
   "metadata": {},
   "source": [
    "# One-Hot Encoding \n",
    "\n",
    "It Creates binary dummy variables for each category where each variable represents a unique category and has a value of 0 or 1.\n",
    "\n",
    "**Advantages:**\n",
    "\n",
    "- Maintains the independence between categories which is important for algorithms that assume numerical independence.\n",
    "- Avoids imposing arbitrary ordinality on categorical variables.\n",
    "\n",
    "**Disadvantages:**\n",
    "\n",
    "- Can lead to the curse of dimensionality especially if the categorical feature has a large number of unique categories.\n",
    "- Increases the size of the dataset significantly as it creates a new binary variable for each category.\n",
    "\n",
    "**Use Cases:**\n",
    "\n",
    "- Preferred for nominal categorical variables where there is no inherent order among categories."
   ]
  },
  {
   "cell_type": "code",
   "execution_count": 7,
   "id": "fe84ed97",
   "metadata": {},
   "outputs": [
    {
     "name": "stdout",
     "output_type": "stream",
     "text": [
      "Original DataFrame:\n",
      "   Color\n",
      "0    red\n",
      "1  green\n",
      "2   blue\n",
      "3   blue\n",
      "4  green\n",
      "\n",
      "One-Hot Encoded DataFrame:\n",
      "   Color  Color_blue  Color_green  Color_red\n",
      "0    red         0.0          0.0        1.0\n",
      "1  green         0.0          1.0        0.0\n",
      "2   blue         1.0          0.0        0.0\n",
      "3   blue         1.0          0.0        0.0\n",
      "4  green         0.0          1.0        0.0\n"
     ]
    }
   ],
   "source": [
    "from sklearn.preprocessing import OneHotEncoder\n",
    "import pandas as pd\n",
    "\n",
    "# Sample categorical data\n",
    "data = ['red', 'green', 'blue', 'blue', 'green']\n",
    "\n",
    "# Converting data to DataFrame format\n",
    "df = pd.DataFrame(data, columns=['Color'])\n",
    "\n",
    "# OneHotEncoder\n",
    "onehot_encoder = OneHotEncoder()\n",
    "\n",
    "# Fitting and transforming one-hot encoder on data\n",
    "onehot_encoded = onehot_encoder.fit_transform(df[['Color']]).toarray()\n",
    "\n",
    "# Converting one-hot encoded data back to DataFrame\n",
    "onehot_df = pd.DataFrame(onehot_encoded, columns=onehot_encoder.get_feature_names_out(['Color']))\n",
    "\n",
    "# Concatenating riginal DataFrame with one-hot encoded DataFrame\n",
    "df_encoded = pd.concat([df, onehot_df], axis=1)\n",
    "\n",
    "print(\"Original DataFrame:\")\n",
    "print(df)\n",
    "print(\"\\nOne-Hot Encoded DataFrame:\")\n",
    "print(df_encoded)\n"
   ]
  },
  {
   "cell_type": "code",
   "execution_count": null,
   "id": "fa4cc00c",
   "metadata": {},
   "outputs": [],
   "source": []
  }
 ],
 "metadata": {
  "kernelspec": {
   "display_name": "Python 3 (ipykernel)",
   "language": "python",
   "name": "python3"
  },
  "language_info": {
   "codemirror_mode": {
    "name": "ipython",
    "version": 3
   },
   "file_extension": ".py",
   "mimetype": "text/x-python",
   "name": "python",
   "nbconvert_exporter": "python",
   "pygments_lexer": "ipython3",
   "version": "3.11.5"
  }
 },
 "nbformat": 4,
 "nbformat_minor": 5
}
