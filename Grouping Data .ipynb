{
 "cells": [
  {
   "cell_type": "markdown",
   "id": "13a13a33",
   "metadata": {},
   "source": [
    "# Grouping Data\n",
    "\n",
    "Group by column: df.groupby(by=\"col\")\n",
    "\n",
    "Groups the DataFrame by the values in the specified column."
   ]
  },
  {
   "cell_type": "code",
   "execution_count": 1,
   "id": "4031fb7b",
   "metadata": {},
   "outputs": [
    {
     "data": {
      "text/html": [
       "<div>\n",
       "<style scoped>\n",
       "    .dataframe tbody tr th:only-of-type {\n",
       "        vertical-align: middle;\n",
       "    }\n",
       "\n",
       "    .dataframe tbody tr th {\n",
       "        vertical-align: top;\n",
       "    }\n",
       "\n",
       "    .dataframe thead th {\n",
       "        text-align: right;\n",
       "    }\n",
       "</style>\n",
       "<table border=\"1\" class=\"dataframe\">\n",
       "  <thead>\n",
       "    <tr style=\"text-align: right;\">\n",
       "      <th></th>\n",
       "      <th>Category</th>\n",
       "      <th>Value</th>\n",
       "    </tr>\n",
       "  </thead>\n",
       "  <tbody>\n",
       "    <tr>\n",
       "      <th>0</th>\n",
       "      <td>A</td>\n",
       "      <td>10</td>\n",
       "    </tr>\n",
       "    <tr>\n",
       "      <th>1</th>\n",
       "      <td>B</td>\n",
       "      <td>20</td>\n",
       "    </tr>\n",
       "    <tr>\n",
       "      <th>2</th>\n",
       "      <td>A</td>\n",
       "      <td>30</td>\n",
       "    </tr>\n",
       "    <tr>\n",
       "      <th>3</th>\n",
       "      <td>B</td>\n",
       "      <td>40</td>\n",
       "    </tr>\n",
       "    <tr>\n",
       "      <th>4</th>\n",
       "      <td>A</td>\n",
       "      <td>50</td>\n",
       "    </tr>\n",
       "    <tr>\n",
       "      <th>5</th>\n",
       "      <td>B</td>\n",
       "      <td>60</td>\n",
       "    </tr>\n",
       "  </tbody>\n",
       "</table>\n",
       "</div>"
      ],
      "text/plain": [
       "  Category  Value\n",
       "0        A     10\n",
       "1        B     20\n",
       "2        A     30\n",
       "3        B     40\n",
       "4        A     50\n",
       "5        B     60"
      ]
     },
     "execution_count": 1,
     "metadata": {},
     "output_type": "execute_result"
    }
   ],
   "source": [
    "import pandas as pd\n",
    "\n",
    "data = {\n",
    "    'Category': ['A', 'B', 'A', 'B', 'A', 'B'],\n",
    "    'Value': [10, 20, 30, 40, 50, 60]\n",
    "}\n",
    "df = pd.DataFrame(data)\n",
    "df"
   ]
  },
  {
   "cell_type": "code",
   "execution_count": 2,
   "id": "65917761",
   "metadata": {},
   "outputs": [
    {
     "name": "stdout",
     "output_type": "stream",
     "text": [
      "          Value\n",
      "Category       \n",
      "A            90\n",
      "B           120\n"
     ]
    }
   ],
   "source": [
    "grouped_by_category = df.groupby(by=\"Category\")\n",
    "print(grouped_by_category.sum())\n"
   ]
  },
  {
   "cell_type": "markdown",
   "id": "379c2978",
   "metadata": {},
   "source": [
    "### Summary Functions"
   ]
  },
  {
   "cell_type": "markdown",
   "id": "a77c82a5",
   "metadata": {},
   "source": [
    "**size()**: Returns the size of each group."
   ]
  },
  {
   "cell_type": "code",
   "execution_count": 3,
   "id": "ebd8e01f",
   "metadata": {},
   "outputs": [
    {
     "name": "stdout",
     "output_type": "stream",
     "text": [
      "Category\n",
      "A    3\n",
      "B    3\n",
      "dtype: int64\n"
     ]
    }
   ],
   "source": [
    "print(grouped_by_category.size())\n"
   ]
  },
  {
   "cell_type": "markdown",
   "id": "fd0eff20",
   "metadata": {},
   "source": [
    "**agg(function):** Aggregates group using a specified function."
   ]
  },
  {
   "cell_type": "code",
   "execution_count": 4,
   "id": "f91e4af4",
   "metadata": {},
   "outputs": [
    {
     "name": "stdout",
     "output_type": "stream",
     "text": [
      "          Value\n",
      "Category       \n",
      "A          30.0\n",
      "B          40.0\n"
     ]
    }
   ],
   "source": [
    "print(grouped_by_category.agg(\"mean\"))\n"
   ]
  },
  {
   "cell_type": "markdown",
   "id": "920aefac",
   "metadata": {},
   "source": [
    "### Shift Function "
   ]
  },
  {
   "cell_type": "markdown",
   "id": "3b5f6920",
   "metadata": {},
   "source": [
    "**shift(1)**: Shifts the values in the group by 1."
   ]
  },
  {
   "cell_type": "code",
   "execution_count": 5,
   "id": "1e227230",
   "metadata": {},
   "outputs": [
    {
     "name": "stdout",
     "output_type": "stream",
     "text": [
      "0     NaN\n",
      "1     NaN\n",
      "2    10.0\n",
      "3    20.0\n",
      "4    30.0\n",
      "5    40.0\n",
      "Name: Value, dtype: float64\n"
     ]
    }
   ],
   "source": [
    "print(grouped_by_category['Value'].shift(1))\n"
   ]
  },
  {
   "cell_type": "markdown",
   "id": "b8ebb481",
   "metadata": {},
   "source": [
    "**shift(-1):** Lags the values in the group by 1."
   ]
  },
  {
   "cell_type": "code",
   "execution_count": 6,
   "id": "5062deeb",
   "metadata": {},
   "outputs": [
    {
     "name": "stdout",
     "output_type": "stream",
     "text": [
      "0    30.0\n",
      "1    40.0\n",
      "2    50.0\n",
      "3    60.0\n",
      "4     NaN\n",
      "5     NaN\n",
      "Name: Value, dtype: float64\n"
     ]
    }
   ],
   "source": [
    "print(grouped_by_category['Value'].shift(-1))"
   ]
  },
  {
   "cell_type": "markdown",
   "id": "bd90db99",
   "metadata": {},
   "source": [
    "### Rank Functions\n",
    "\n",
    "**rank(method='dense')**: Ranks with no gaps between ranks. "
   ]
  },
  {
   "cell_type": "code",
   "execution_count": 7,
   "id": "d76ecb61",
   "metadata": {},
   "outputs": [
    {
     "name": "stdout",
     "output_type": "stream",
     "text": [
      "0    1.0\n",
      "1    1.0\n",
      "2    2.0\n",
      "3    2.0\n",
      "4    3.0\n",
      "5    3.0\n",
      "Name: Value, dtype: float64\n"
     ]
    }
   ],
   "source": [
    "print(grouped_by_category['Value'].rank(method='dense'))"
   ]
  },
  {
   "cell_type": "markdown",
   "id": "2372132b",
   "metadata": {},
   "source": [
    "**rank(method='min')**: Ranks, ties get the minimum rank."
   ]
  },
  {
   "cell_type": "code",
   "execution_count": 8,
   "id": "ba10e493",
   "metadata": {},
   "outputs": [
    {
     "name": "stdout",
     "output_type": "stream",
     "text": [
      "0    1.0\n",
      "1    1.0\n",
      "2    2.0\n",
      "3    2.0\n",
      "4    3.0\n",
      "5    3.0\n",
      "Name: Value, dtype: float64\n"
     ]
    }
   ],
   "source": [
    "print(grouped_by_category['Value'].rank(method='min'))\n"
   ]
  },
  {
   "cell_type": "markdown",
   "id": "e5aeaf9c",
   "metadata": {},
   "source": [
    "**rank(method='first')**: Ranks, ties go to the first value encountered."
   ]
  },
  {
   "cell_type": "code",
   "execution_count": 9,
   "id": "4f2b985e",
   "metadata": {},
   "outputs": [
    {
     "name": "stdout",
     "output_type": "stream",
     "text": [
      "0    1.0\n",
      "1    1.0\n",
      "2    2.0\n",
      "3    2.0\n",
      "4    3.0\n",
      "5    3.0\n",
      "Name: Value, dtype: float64\n"
     ]
    }
   ],
   "source": [
    "print(grouped_by_category['Value'].rank(method='first'))"
   ]
  },
  {
   "cell_type": "markdown",
   "id": "66f86fae",
   "metadata": {},
   "source": [
    "**rank(pct=True)**: Ranks rescaled to interval [0, 1]"
   ]
  },
  {
   "cell_type": "code",
   "execution_count": 10,
   "id": "bb39904c",
   "metadata": {},
   "outputs": [
    {
     "name": "stdout",
     "output_type": "stream",
     "text": [
      "0    0.333333\n",
      "1    0.333333\n",
      "2    0.666667\n",
      "3    0.666667\n",
      "4    1.000000\n",
      "5    1.000000\n",
      "Name: Value, dtype: float64\n"
     ]
    }
   ],
   "source": [
    "print(grouped_by_category['Value'].rank(pct=True))\n"
   ]
  },
  {
   "cell_type": "markdown",
   "id": "ec3334b5",
   "metadata": {},
   "source": [
    "###  Cumulative Functions\n",
    "\n",
    "**cumsum()**: Cumulative sum of the values in the group."
   ]
  },
  {
   "cell_type": "code",
   "execution_count": 11,
   "id": "908c52ed",
   "metadata": {},
   "outputs": [
    {
     "name": "stdout",
     "output_type": "stream",
     "text": [
      "0     10\n",
      "1     20\n",
      "2     40\n",
      "3     60\n",
      "4     90\n",
      "5    120\n",
      "Name: Value, dtype: int64\n"
     ]
    }
   ],
   "source": [
    "print(grouped_by_category['Value'].cumsum())"
   ]
  },
  {
   "cell_type": "markdown",
   "id": "60d9fbbe",
   "metadata": {},
   "source": [
    "**cummax()**: Cumulative maximum of the values in the group."
   ]
  },
  {
   "cell_type": "code",
   "execution_count": 12,
   "id": "9045dca1",
   "metadata": {},
   "outputs": [
    {
     "name": "stdout",
     "output_type": "stream",
     "text": [
      "0    10\n",
      "1    20\n",
      "2    30\n",
      "3    40\n",
      "4    50\n",
      "5    60\n",
      "Name: Value, dtype: int64\n"
     ]
    }
   ],
   "source": [
    "print(grouped_by_category['Value'].cummax())"
   ]
  },
  {
   "cell_type": "markdown",
   "id": "9f12813a",
   "metadata": {},
   "source": [
    "**cummin()**: Cumulative minimum of the values in the group."
   ]
  },
  {
   "cell_type": "code",
   "execution_count": 13,
   "id": "20601c5e",
   "metadata": {},
   "outputs": [
    {
     "name": "stdout",
     "output_type": "stream",
     "text": [
      "0    10\n",
      "1    20\n",
      "2    10\n",
      "3    20\n",
      "4    10\n",
      "5    20\n",
      "Name: Value, dtype: int64\n"
     ]
    }
   ],
   "source": [
    "print(grouped_by_category['Value'].cummin())"
   ]
  },
  {
   "cell_type": "markdown",
   "id": "e70ff217",
   "metadata": {},
   "source": [
    "**cumprod()**: Cumulative product of the values in the group."
   ]
  },
  {
   "cell_type": "code",
   "execution_count": 14,
   "id": "842002c0",
   "metadata": {},
   "outputs": [
    {
     "name": "stdout",
     "output_type": "stream",
     "text": [
      "0       10\n",
      "1       20\n",
      "2      300\n",
      "3      800\n",
      "4    15000\n",
      "5    48000\n",
      "Name: Value, dtype: int64\n"
     ]
    }
   ],
   "source": [
    "print(grouped_by_category['Value'].cumprod())"
   ]
  },
  {
   "cell_type": "code",
   "execution_count": null,
   "id": "42d06f88",
   "metadata": {},
   "outputs": [],
   "source": []
  }
 ],
 "metadata": {
  "kernelspec": {
   "display_name": "Python 3 (ipykernel)",
   "language": "python",
   "name": "python3"
  },
  "language_info": {
   "codemirror_mode": {
    "name": "ipython",
    "version": 3
   },
   "file_extension": ".py",
   "mimetype": "text/x-python",
   "name": "python",
   "nbconvert_exporter": "python",
   "pygments_lexer": "ipython3",
   "version": "3.11.5"
  }
 },
 "nbformat": 4,
 "nbformat_minor": 5
}
