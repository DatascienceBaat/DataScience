{
 "cells": [
  {
   "cell_type": "markdown",
   "id": "3102fd24",
   "metadata": {},
   "source": [
    "### How to use break, continue and pass in Python"
   ]
  },
  {
   "cell_type": "markdown",
   "id": "bf2943a4",
   "metadata": {},
   "source": [
    "**break statement:**\n",
    "    \n",
    "- The break statement is used to exit a loop prematurely. When encountered, it terminates the loop and execution continues with   the next statement after the loop.\n",
    "- It is commonly used to exit a loop early based on a specific condition."
   ]
  },
  {
   "cell_type": "code",
   "execution_count": 1,
   "id": "901a38ad",
   "metadata": {},
   "outputs": [
    {
     "name": "stdout",
     "output_type": "stream",
     "text": [
      "0\n",
      "1\n",
      "2\n"
     ]
    }
   ],
   "source": [
    "# break statement\n",
    "for i in range(5):\n",
    "    if i == 3:\n",
    "        break  \n",
    "    print(i)\n"
   ]
  },
  {
   "cell_type": "code",
   "execution_count": 5,
   "id": "75a429d1",
   "metadata": {},
   "outputs": [
    {
     "name": "stdout",
     "output_type": "stream",
     "text": [
      "0\n",
      "1\n",
      "2\n"
     ]
    }
   ],
   "source": [
    "# Example of break statement in a while loop\n",
    "i = 0\n",
    "while i < 5:\n",
    "    if i == 3:\n",
    "        break  \n",
    "    print(i)\n",
    "    i += 1\n"
   ]
  },
  {
   "cell_type": "code",
   "execution_count": 8,
   "id": "845399d6",
   "metadata": {},
   "outputs": [
    {
     "name": "stdout",
     "output_type": "stream",
     "text": [
      "0 0\n",
      "0 1\n",
      "1 0\n",
      "1 1\n",
      "2 0\n",
      "2 1\n"
     ]
    }
   ],
   "source": [
    "# Example of break statement in nested loops\n",
    "for i in range(3):\n",
    "    for j in range(3):\n",
    "        if j == 2:\n",
    "            break  \n",
    "        print(i, j)\n"
   ]
  },
  {
   "cell_type": "markdown",
   "id": "d3fba9f3",
   "metadata": {},
   "source": [
    "**continue statement:**\n",
    "\n",
    "- The continue statement is used to skip the rest of the code inside a loop for the current iteration and proceed to the next     iteration of the loop.\n",
    "- It allows you to skip certain iterations based on a condition without exiting the loop entirely."
   ]
  },
  {
   "cell_type": "code",
   "execution_count": 2,
   "id": "82caeecc",
   "metadata": {},
   "outputs": [
    {
     "name": "stdout",
     "output_type": "stream",
     "text": [
      "0\n",
      "1\n",
      "3\n",
      "4\n"
     ]
    }
   ],
   "source": [
    "# continue statement\n",
    "for i in range(5):\n",
    "    if i == 2:\n",
    "        continue \n",
    "    print(i)\n"
   ]
  },
  {
   "cell_type": "code",
   "execution_count": 6,
   "id": "18d096bb",
   "metadata": {},
   "outputs": [
    {
     "name": "stdout",
     "output_type": "stream",
     "text": [
      "1\n",
      "2\n",
      "4\n",
      "5\n"
     ]
    }
   ],
   "source": [
    "# Example of continue statement in a while loop\n",
    "i = 0\n",
    "while i < 5:\n",
    "    i += 1\n",
    "    if i == 3:\n",
    "        continue  \n",
    "    print(i)\n"
   ]
  },
  {
   "cell_type": "code",
   "execution_count": 9,
   "id": "8ecc2ada",
   "metadata": {},
   "outputs": [
    {
     "name": "stdout",
     "output_type": "stream",
     "text": [
      "0 0\n",
      "0 2\n",
      "1 0\n",
      "1 2\n",
      "2 0\n",
      "2 2\n"
     ]
    }
   ],
   "source": [
    "# Example of continue statement in nested loops\n",
    "for i in range(3):\n",
    "    for j in range(3):\n",
    "        if j == 1:\n",
    "            continue  \n",
    "        print(i, j)\n"
   ]
  },
  {
   "cell_type": "markdown",
   "id": "d44b6114",
   "metadata": {},
   "source": [
    "**pass statement:**\n",
    "\n",
    "- The pass statement is a null operation in Python. It does nothing when executed.\n",
    "- It is used as a placeholder where syntactically a statement is required, but no action is needed.\n",
    "- It is commonly used when writing code that will be filled in later or when a statement is needed for code structure but no       action is required."
   ]
  },
  {
   "cell_type": "code",
   "execution_count": 3,
   "id": "c883d97f",
   "metadata": {},
   "outputs": [
    {
     "name": "stdout",
     "output_type": "stream",
     "text": [
      "0\n",
      "1\n",
      "3\n",
      "4\n"
     ]
    }
   ],
   "source": [
    "# Example of pass statement\n",
    "for i in range(5):\n",
    "    if i == 2:\n",
    "        pass  \n",
    "    else:\n",
    "        print(i)\n"
   ]
  },
  {
   "cell_type": "code",
   "execution_count": 7,
   "id": "a8f7c919",
   "metadata": {},
   "outputs": [],
   "source": [
    "# Example of pass statement in a function\n",
    "def dummy_function():\n",
    "    pass  \n",
    "\n",
    "\n"
   ]
  },
  {
   "cell_type": "markdown",
   "id": "a426ad1b",
   "metadata": {},
   "source": [
    "**In summary:**\n",
    "\n",
    "- Use break to exit a loop prematurely.\n",
    "- Use continue to skip the rest of the loop's code for the current iteration and proceed to the next iteration.\n",
    "- Use pass as a placeholder where no action is needed."
   ]
  },
  {
   "cell_type": "code",
   "execution_count": null,
   "id": "a5ae6634",
   "metadata": {},
   "outputs": [],
   "source": []
  }
 ],
 "metadata": {
  "kernelspec": {
   "display_name": "Python 3 (ipykernel)",
   "language": "python",
   "name": "python3"
  },
  "language_info": {
   "codemirror_mode": {
    "name": "ipython",
    "version": 3
   },
   "file_extension": ".py",
   "mimetype": "text/x-python",
   "name": "python",
   "nbconvert_exporter": "python",
   "pygments_lexer": "ipython3",
   "version": "3.11.5"
  }
 },
 "nbformat": 4,
 "nbformat_minor": 5
}
