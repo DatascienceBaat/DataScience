{
 "cells": [
  {
   "cell_type": "markdown",
   "id": "adc64335",
   "metadata": {},
   "source": [
    "## Explain the use of the map() and filter() functions in Python."
   ]
  },
  {
   "cell_type": "markdown",
   "id": "42207bb6",
   "metadata": {},
   "source": [
    "**map() Function**:\n",
    "\n",
    "The map() function applies a specified function to each item in an iterable (e.g., a list) and returns an iterator containing the results.\n",
    "\n",
    "**Syntax**: map(function, iterable)\n",
    "\n",
    "**Parameters**:\n",
    "\n",
    "- **function**: The function to apply to each item in the iterable.\n",
    "- **iterable**: The iterable (e.g., list, tuple, set) containing the items to be processed."
   ]
  },
  {
   "cell_type": "code",
   "execution_count": 2,
   "id": "bcc36d26",
   "metadata": {},
   "outputs": [
    {
     "data": {
      "text/plain": [
       "[1, 4, 9, 16, 25]"
      ]
     },
     "execution_count": 2,
     "metadata": {},
     "output_type": "execute_result"
    }
   ],
   "source": [
    "# Define a function to square a number\n",
    "def square(x):\n",
    "    return x ** 2\n",
    "\n",
    "# Apply the square function to each element in a list using map()\n",
    "numbers = [1, 2, 3, 4, 5]\n",
    "squared_numbers = map(square, numbers)\n",
    "\n",
    "# Convert the iterator to a list to see the results\n",
    "squared_numbers_list = list(squared_numbers)\n",
    "squared_numbers_list \n"
   ]
  },
  {
   "cell_type": "code",
   "execution_count": 6,
   "id": "53076036",
   "metadata": {},
   "outputs": [
    {
     "data": {
      "text/plain": [
       "[5, 7, 9]"
      ]
     },
     "execution_count": 6,
     "metadata": {},
     "output_type": "execute_result"
    }
   ],
   "source": [
    "# Defining a function to add corresponding elements of two lists\n",
    "def add(x, y):\n",
    "    return x + y\n",
    "\n",
    "# Applying the add function to corresponding elements of two lists using map()\n",
    "numbers1 = [1, 2, 3]\n",
    "numbers2 = [4, 5, 6]\n",
    "summed_numbers = map(add, numbers1, numbers2)\n",
    "\n",
    "# Converting the iterator to a list to see the results\n",
    "summed_numbers_list = list(summed_numbers)\n",
    "summed_numbers_list \n"
   ]
  },
  {
   "cell_type": "markdown",
   "id": "8f0bff71",
   "metadata": {},
   "source": [
    "**filter()** Function :\n",
    "\n",
    "The filter() function applies a specified filtering function to each item in an iterable and returns an iterator containing the items for which the function returns True.\n",
    "\n",
    "**Syntax**: filter(function, iterable)\n",
    "\n",
    "**Parameters**:\n",
    "\n",
    "- **function**: The filtering function that returns True or False for each item in the iterable.\n",
    "- **iterable**: The iterable (e.g., list, tuple, set) containing the items to be filtered."
   ]
  },
  {
   "cell_type": "code",
   "execution_count": 4,
   "id": "ccf91a70",
   "metadata": {},
   "outputs": [
    {
     "data": {
      "text/plain": [
       "[2, 4, 6, 8, 10]"
      ]
     },
     "execution_count": 4,
     "metadata": {},
     "output_type": "execute_result"
    }
   ],
   "source": [
    "# Define a function to filter even numbers\n",
    "def is_even(x):\n",
    "    return x % 2 == 0\n",
    "\n",
    "# Filter even numbers from a list using filter()\n",
    "numbers = [1, 2, 3, 4, 5, 6, 7, 8, 9, 10]\n",
    "even_numbers = filter(is_even, numbers)\n",
    "\n",
    "# Convert the iterator to a list to see the results\n",
    "even_numbers_list = list(even_numbers)\n",
    "even_numbers_list  \n"
   ]
  },
  {
   "cell_type": "code",
   "execution_count": 9,
   "id": "c5d98e2c",
   "metadata": {},
   "outputs": [
    {
     "data": {
      "text/plain": [
       "[2, 4, 6, 8, 10]"
      ]
     },
     "execution_count": 9,
     "metadata": {},
     "output_type": "execute_result"
    }
   ],
   "source": [
    "# Using filter()\n",
    "even_numbers = filter(lambda x: x % 2 == 0, numbers)\n",
    "\n",
    "list(even_numbers)"
   ]
  },
  {
   "cell_type": "code",
   "execution_count": 11,
   "id": "f764daa1",
   "metadata": {},
   "outputs": [
    {
     "data": {
      "text/plain": [
       "['hello', 'world', 'python']"
      ]
     },
     "execution_count": 11,
     "metadata": {},
     "output_type": "execute_result"
    }
   ],
   "source": [
    "# Filter out empty strings from a list\n",
    "strings = [\"hello\", \"\", \"world\", \"\", \"python\"]\n",
    "non_empty_strings = filter(None, strings)\n",
    "list(non_empty_strings)"
   ]
  },
  {
   "cell_type": "code",
   "execution_count": null,
   "id": "3d550230",
   "metadata": {},
   "outputs": [],
   "source": []
  }
 ],
 "metadata": {
  "kernelspec": {
   "display_name": "Python 3 (ipykernel)",
   "language": "python",
   "name": "python3"
  },
  "language_info": {
   "codemirror_mode": {
    "name": "ipython",
    "version": 3
   },
   "file_extension": ".py",
   "mimetype": "text/x-python",
   "name": "python",
   "nbconvert_exporter": "python",
   "pygments_lexer": "ipython3",
   "version": "3.11.5"
  }
 },
 "nbformat": 4,
 "nbformat_minor": 5
}
