{
 "cells": [
  {
   "cell_type": "markdown",
   "id": "3c7c8fc4",
   "metadata": {},
   "source": [
    "# Python List Methods"
   ]
  },
  {
   "cell_type": "markdown",
   "id": "8dc9ad07",
   "metadata": {},
   "source": [
    "**append(item)** : Adds item to the end of the list."
   ]
  },
  {
   "cell_type": "code",
   "execution_count": 1,
   "id": "438d06a8",
   "metadata": {},
   "outputs": [
    {
     "name": "stdout",
     "output_type": "stream",
     "text": [
      "[1, 2, 3, 4]\n"
     ]
    }
   ],
   "source": [
    "my_list = [1, 2, 3]\n",
    "my_list.append(4)\n",
    "print(my_list)  \n"
   ]
  },
  {
   "cell_type": "markdown",
   "id": "79d179fb",
   "metadata": {},
   "source": [
    "**pop(position)** : Removes and returns the item at the specified position (index). If no index is specified, removes and returns the last item in the list."
   ]
  },
  {
   "cell_type": "code",
   "execution_count": 2,
   "id": "17945f00",
   "metadata": {},
   "outputs": [
    {
     "name": "stdout",
     "output_type": "stream",
     "text": [
      "3\n",
      "[1, 2, 4]\n"
     ]
    }
   ],
   "source": [
    "my_list = [1, 2, 3, 4]\n",
    "popped_item = my_list.pop(2)\n",
    "print(popped_item)  \n",
    "print(my_list)      \n"
   ]
  },
  {
   "cell_type": "markdown",
   "id": "aead4261",
   "metadata": {},
   "source": [
    "**count(item)**: Returns the number of occurrences of item in the list."
   ]
  },
  {
   "cell_type": "code",
   "execution_count": 3,
   "id": "2ef3319f",
   "metadata": {},
   "outputs": [
    {
     "name": "stdout",
     "output_type": "stream",
     "text": [
      "3\n"
     ]
    }
   ],
   "source": [
    "my_list = [1, 2, 3, 1, 2, 1]\n",
    "count = my_list.count(1)\n",
    "print(count)  "
   ]
  },
  {
   "cell_type": "markdown",
   "id": "d22c0aec",
   "metadata": {},
   "source": [
    "**remove(item)** : Removes the first occurrence of item from the list."
   ]
  },
  {
   "cell_type": "code",
   "execution_count": 4,
   "id": "0db57357",
   "metadata": {},
   "outputs": [
    {
     "name": "stdout",
     "output_type": "stream",
     "text": [
      "[2, 3, 1, 2, 1]\n"
     ]
    }
   ],
   "source": [
    "my_list = [1, 2, 3, 1, 2, 1]\n",
    "my_list.remove(1)\n",
    "print(my_list)  "
   ]
  },
  {
   "cell_type": "markdown",
   "id": "cf7463d5",
   "metadata": {},
   "source": [
    "**extend(list)** : Extends the list by appending elements from another list."
   ]
  },
  {
   "cell_type": "code",
   "execution_count": 5,
   "id": "2578409f",
   "metadata": {},
   "outputs": [
    {
     "name": "stdout",
     "output_type": "stream",
     "text": [
      "[1, 2, 3, 4, 5, 6]\n"
     ]
    }
   ],
   "source": [
    "my_list = [1, 2, 3]\n",
    "my_list.extend([4, 5, 6])\n",
    "print(my_list) "
   ]
  },
  {
   "cell_type": "markdown",
   "id": "62556532",
   "metadata": {},
   "source": [
    "**reverse()**: Reverses the order of elements in the list."
   ]
  },
  {
   "cell_type": "code",
   "execution_count": 6,
   "id": "bf652753",
   "metadata": {},
   "outputs": [
    {
     "name": "stdout",
     "output_type": "stream",
     "text": [
      "[3, 2, 1]\n"
     ]
    }
   ],
   "source": [
    "my_list = [1, 2, 3]\n",
    "my_list.reverse()\n",
    "print(my_list)  "
   ]
  },
  {
   "cell_type": "markdown",
   "id": "2518a50d",
   "metadata": {},
   "source": [
    "**index(item)** : Returns the index of the first occurrence of item in the list."
   ]
  },
  {
   "cell_type": "code",
   "execution_count": 7,
   "id": "e1ca422c",
   "metadata": {},
   "outputs": [
    {
     "name": "stdout",
     "output_type": "stream",
     "text": [
      "1\n"
     ]
    }
   ],
   "source": [
    "my_list = [1, 2, 3, 1, 2, 1]\n",
    "index = my_list.index(2)\n",
    "print(index)  "
   ]
  },
  {
   "cell_type": "markdown",
   "id": "64ec0bd3",
   "metadata": {},
   "source": [
    "**sort()** : Sorts the elements of the list in ascending order by default. "
   ]
  },
  {
   "cell_type": "code",
   "execution_count": 8,
   "id": "0a64d128",
   "metadata": {},
   "outputs": [
    {
     "name": "stdout",
     "output_type": "stream",
     "text": [
      "[1, 2, 3]\n"
     ]
    }
   ],
   "source": [
    "my_list = [3, 1, 2]\n",
    "my_list.sort()\n",
    "print(my_list) \n"
   ]
  },
  {
   "cell_type": "markdown",
   "id": "279582d5",
   "metadata": {},
   "source": [
    "**insert(position, item)** : Inserts item at the specified position (index) in the list."
   ]
  },
  {
   "cell_type": "code",
   "execution_count": 9,
   "id": "0e14dad6",
   "metadata": {},
   "outputs": [
    {
     "name": "stdout",
     "output_type": "stream",
     "text": [
      "[1, 4, 2, 3]\n"
     ]
    }
   ],
   "source": [
    "my_list = [1, 2, 3]\n",
    "my_list.insert(1, 4)\n",
    "print(my_list)  "
   ]
  },
  {
   "cell_type": "code",
   "execution_count": null,
   "id": "64cc4972",
   "metadata": {},
   "outputs": [],
   "source": []
  }
 ],
 "metadata": {
  "kernelspec": {
   "display_name": "Python 3 (ipykernel)",
   "language": "python",
   "name": "python3"
  },
  "language_info": {
   "codemirror_mode": {
    "name": "ipython",
    "version": 3
   },
   "file_extension": ".py",
   "mimetype": "text/x-python",
   "name": "python",
   "nbconvert_exporter": "python",
   "pygments_lexer": "ipython3",
   "version": "3.11.5"
  }
 },
 "nbformat": 4,
 "nbformat_minor": 5
}
