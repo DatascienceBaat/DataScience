{
 "cells": [
  {
   "cell_type": "markdown",
   "id": "25f227a9",
   "metadata": {},
   "source": [
    "# Tensor Creation"
   ]
  },
  {
   "cell_type": "markdown",
   "id": "85e239e5",
   "metadata": {},
   "source": [
    "**torch.tensor()**: Creates a tensor from a Python list or NumPy array."
   ]
  },
  {
   "cell_type": "code",
   "execution_count": 1,
   "id": "ba0033aa",
   "metadata": {},
   "outputs": [
    {
     "data": {
      "text/plain": [
       "tensor([[1, 2],\n",
       "        [3, 4]])"
      ]
     },
     "execution_count": 1,
     "metadata": {},
     "output_type": "execute_result"
    }
   ],
   "source": [
    "import torch\n",
    "data = [[1, 2], [3, 4]]\n",
    "tensor = torch.tensor(data)\n",
    "tensor\n"
   ]
  },
  {
   "cell_type": "markdown",
   "id": "d578cfa8",
   "metadata": {},
   "source": [
    "**torch.zeros()**: Creates a tensor filled with zeros."
   ]
  },
  {
   "cell_type": "code",
   "execution_count": 2,
   "id": "aee64bfe",
   "metadata": {},
   "outputs": [
    {
     "data": {
      "text/plain": [
       "tensor([[0., 0., 0.],\n",
       "        [0., 0., 0.]])"
      ]
     },
     "execution_count": 2,
     "metadata": {},
     "output_type": "execute_result"
    }
   ],
   "source": [
    "zeros_tensor = torch.zeros((2, 3))\n",
    "zeros_tensor\n"
   ]
  },
  {
   "cell_type": "markdown",
   "id": "67394482",
   "metadata": {},
   "source": [
    "**torch.ones()**: Creates a tensor filled with ones."
   ]
  },
  {
   "cell_type": "code",
   "execution_count": 3,
   "id": "b9aa0cc9",
   "metadata": {},
   "outputs": [
    {
     "data": {
      "text/plain": [
       "tensor([[1., 1., 1.],\n",
       "        [1., 1., 1.]])"
      ]
     },
     "execution_count": 3,
     "metadata": {},
     "output_type": "execute_result"
    }
   ],
   "source": [
    "ones_tensor = torch.ones((2, 3))\n",
    "ones_tensor\n"
   ]
  },
  {
   "cell_type": "markdown",
   "id": "9f01c671",
   "metadata": {},
   "source": [
    "**torch.rand()**: Creates a tensor with random values."
   ]
  },
  {
   "cell_type": "code",
   "execution_count": 4,
   "id": "b3f09540",
   "metadata": {},
   "outputs": [
    {
     "data": {
      "text/plain": [
       "tensor([[0.1410, 0.3095, 0.7251],\n",
       "        [0.8776, 0.2127, 0.6840]])"
      ]
     },
     "execution_count": 4,
     "metadata": {},
     "output_type": "execute_result"
    }
   ],
   "source": [
    "rand_tensor = torch.rand((2, 3))\n",
    "rand_tensor\n"
   ]
  },
  {
   "cell_type": "markdown",
   "id": "20390864",
   "metadata": {},
   "source": [
    "**torch.randn()**: Creates a tensor with random values from a normal distribution."
   ]
  },
  {
   "cell_type": "code",
   "execution_count": 5,
   "id": "57d9e8bd",
   "metadata": {},
   "outputs": [
    {
     "data": {
      "text/plain": [
       "tensor([[ 1.4036,  0.5928, -1.7883],\n",
       "        [ 0.5948, -0.1342, -1.3288]])"
      ]
     },
     "execution_count": 5,
     "metadata": {},
     "output_type": "execute_result"
    }
   ],
   "source": [
    "randn_tensor = torch.randn((2, 3))\n",
    "randn_tensor\n"
   ]
  },
  {
   "cell_type": "markdown",
   "id": "583ceb1f",
   "metadata": {},
   "source": [
    "# Tensor Operations"
   ]
  },
  {
   "cell_type": "markdown",
   "id": "abb09494",
   "metadata": {},
   "source": [
    "**torch.add()**: Element-wise addition of two tensors."
   ]
  },
  {
   "cell_type": "code",
   "execution_count": 6,
   "id": "7ed82ab5",
   "metadata": {},
   "outputs": [
    {
     "data": {
      "text/plain": [
       "tensor([5, 7, 9])"
      ]
     },
     "execution_count": 6,
     "metadata": {},
     "output_type": "execute_result"
    }
   ],
   "source": [
    "a = torch.tensor([1, 2, 3])\n",
    "b = torch.tensor([4, 5, 6])\n",
    "result = torch.add(a, b)\n",
    "result\n"
   ]
  },
  {
   "cell_type": "markdown",
   "id": "33fee997",
   "metadata": {},
   "source": [
    "**torch.sub()**: Element-wise subtraction of two tensors."
   ]
  },
  {
   "cell_type": "code",
   "execution_count": 7,
   "id": "cc4e4cc9",
   "metadata": {},
   "outputs": [
    {
     "data": {
      "text/plain": [
       "tensor([-3, -3, -3])"
      ]
     },
     "execution_count": 7,
     "metadata": {},
     "output_type": "execute_result"
    }
   ],
   "source": [
    "result = torch.sub(a, b)\n",
    "result\n"
   ]
  },
  {
   "cell_type": "markdown",
   "id": "fb652f9b",
   "metadata": {},
   "source": [
    "**torch.mul()**: Element-wise multiplication of two tensors."
   ]
  },
  {
   "cell_type": "code",
   "execution_count": 8,
   "id": "3d5e123b",
   "metadata": {},
   "outputs": [
    {
     "data": {
      "text/plain": [
       "tensor([ 4, 10, 18])"
      ]
     },
     "execution_count": 8,
     "metadata": {},
     "output_type": "execute_result"
    }
   ],
   "source": [
    "result = torch.mul(a, b)\n",
    "result\n"
   ]
  },
  {
   "cell_type": "markdown",
   "id": "b7f20702",
   "metadata": {},
   "source": [
    "**torch.div()**: Element-wise division of two tensors."
   ]
  },
  {
   "cell_type": "code",
   "execution_count": 9,
   "id": "de349927",
   "metadata": {},
   "outputs": [
    {
     "data": {
      "text/plain": [
       "tensor([0.2500, 0.4000, 0.5000])"
      ]
     },
     "execution_count": 9,
     "metadata": {},
     "output_type": "execute_result"
    }
   ],
   "source": [
    "result = torch.div(a, b)\n",
    "result\n"
   ]
  },
  {
   "cell_type": "markdown",
   "id": "82f398c0",
   "metadata": {},
   "source": [
    "**torch.matmul()**: Matrix product of two tensors."
   ]
  },
  {
   "cell_type": "code",
   "execution_count": 10,
   "id": "81f5b220",
   "metadata": {},
   "outputs": [
    {
     "data": {
      "text/plain": [
       "tensor([[19, 22],\n",
       "        [43, 50]])"
      ]
     },
     "execution_count": 10,
     "metadata": {},
     "output_type": "execute_result"
    }
   ],
   "source": [
    "a = torch.tensor([[1, 2], [3, 4]])\n",
    "b = torch.tensor([[5, 6], [7, 8]])\n",
    "result = torch.matmul(a, b)\n",
    "result\n"
   ]
  },
  {
   "cell_type": "markdown",
   "id": "fc9796d9",
   "metadata": {},
   "source": [
    "**torch.sum()**: Computes the sum of elements in a tensor."
   ]
  },
  {
   "cell_type": "code",
   "execution_count": 11,
   "id": "3636e72b",
   "metadata": {},
   "outputs": [
    {
     "data": {
      "text/plain": [
       "tensor(10)"
      ]
     },
     "execution_count": 11,
     "metadata": {},
     "output_type": "execute_result"
    }
   ],
   "source": [
    "result = torch.sum(a)\n",
    "result\n"
   ]
  },
  {
   "cell_type": "markdown",
   "id": "24443210",
   "metadata": {},
   "source": [
    "**torch.mean()**: Computes the mean of all elements in a tensor."
   ]
  },
  {
   "cell_type": "code",
   "execution_count": 12,
   "id": "edb1ce0d",
   "metadata": {},
   "outputs": [
    {
     "data": {
      "text/plain": [
       "tensor(2.5000)"
      ]
     },
     "execution_count": 12,
     "metadata": {},
     "output_type": "execute_result"
    }
   ],
   "source": [
    "result = torch.mean(a.float())\n",
    "result\n"
   ]
  },
  {
   "cell_type": "markdown",
   "id": "31ee1b84",
   "metadata": {},
   "source": [
    "**torch.max()**: Computes the maximum value in a tensor."
   ]
  },
  {
   "cell_type": "code",
   "execution_count": 13,
   "id": "aca771b5",
   "metadata": {},
   "outputs": [
    {
     "data": {
      "text/plain": [
       "tensor(4)"
      ]
     },
     "execution_count": 13,
     "metadata": {},
     "output_type": "execute_result"
    }
   ],
   "source": [
    "result = torch.max(a)\n",
    "result\n"
   ]
  },
  {
   "cell_type": "markdown",
   "id": "9fc76baa",
   "metadata": {},
   "source": [
    "**torch.min()**: Computes the minimum value in a tensor."
   ]
  },
  {
   "cell_type": "code",
   "execution_count": 14,
   "id": "17ec2580",
   "metadata": {},
   "outputs": [
    {
     "data": {
      "text/plain": [
       "tensor(1)"
      ]
     },
     "execution_count": 14,
     "metadata": {},
     "output_type": "execute_result"
    }
   ],
   "source": [
    "result = torch.min(a)\n",
    "result\n"
   ]
  },
  {
   "cell_type": "markdown",
   "id": "1fb2ebbc",
   "metadata": {},
   "source": [
    "# Autograd\n"
   ]
  },
  {
   "cell_type": "markdown",
   "id": "a6f04c69",
   "metadata": {},
   "source": [
    "\n",
    "**torch.autograd.grad()**: Computes the gradient of a tensor."
   ]
  },
  {
   "cell_type": "code",
   "execution_count": 15,
   "id": "e6335391",
   "metadata": {},
   "outputs": [
    {
     "data": {
      "text/plain": [
       "tensor(4.)"
      ]
     },
     "execution_count": 15,
     "metadata": {},
     "output_type": "execute_result"
    }
   ],
   "source": [
    "x = torch.tensor(2.0, requires_grad=True)\n",
    "y = x ** 2\n",
    "y.backward()\n",
    "x.grad\n"
   ]
  },
  {
   "cell_type": "markdown",
   "id": "57538842",
   "metadata": {},
   "source": [
    "# Neural Networks"
   ]
  },
  {
   "cell_type": "markdown",
   "id": "e2e1d53a",
   "metadata": {},
   "source": [
    "**torch.nn.Module:** Base class for all neural network modules."
   ]
  },
  {
   "cell_type": "code",
   "execution_count": 18,
   "id": "783aad2a",
   "metadata": {},
   "outputs": [],
   "source": [
    "import torch.nn as nn\n",
    "class SimpleNN(nn.Module):\n",
    "    def __init__(self):\n",
    "        super(SimpleNN, self).__init__()\n",
    "        self.linear = nn.Linear(2, 1)\n",
    "    \n",
    "    def forward(self, x):\n",
    "        return self.linear(x)\n"
   ]
  },
  {
   "cell_type": "markdown",
   "id": "194a977a",
   "metadata": {},
   "source": [
    "**torch.nn.Sequential:** A sequential container."
   ]
  },
  {
   "cell_type": "code",
   "execution_count": 19,
   "id": "56495a1f",
   "metadata": {},
   "outputs": [],
   "source": [
    "model = nn.Sequential(\n",
    "    nn.Linear(2, 2),\n",
    "    nn.ReLU(),\n",
    "    nn.Linear(2, 1)\n",
    ")"
   ]
  },
  {
   "cell_type": "markdown",
   "id": "aa63611e",
   "metadata": {},
   "source": [
    "**torch.nn.Conv2d:** Applies a 2D convolution."
   ]
  },
  {
   "cell_type": "code",
   "execution_count": 20,
   "id": "5ed5c336",
   "metadata": {},
   "outputs": [],
   "source": [
    "conv_layer = nn.Conv2d(in_channels=1, out_channels=1, kernel_size=3)"
   ]
  },
  {
   "cell_type": "markdown",
   "id": "4f4ee7e6",
   "metadata": {},
   "source": [
    "**torch.nn.ReLU:** Applies the ReLU activation function."
   ]
  },
  {
   "cell_type": "code",
   "execution_count": 21,
   "id": "35bf8688",
   "metadata": {},
   "outputs": [],
   "source": [
    "relu = nn.ReLU()"
   ]
  },
  {
   "cell_type": "markdown",
   "id": "37f21244",
   "metadata": {},
   "source": [
    "**torch.nn.Sigmoid:** Applies the Sigmoid activation function."
   ]
  },
  {
   "cell_type": "code",
   "execution_count": 22,
   "id": "8ff65709",
   "metadata": {},
   "outputs": [],
   "source": [
    "sigmoid = nn.Sigmoid()"
   ]
  },
  {
   "cell_type": "markdown",
   "id": "78c433c0",
   "metadata": {},
   "source": [
    "# Optimization\n",
    "\n",
    "\n",
    "**torch.optim.SGD:** Stochastic gradient descent optimizer."
   ]
  },
  {
   "cell_type": "code",
   "execution_count": 23,
   "id": "c8c3f760",
   "metadata": {},
   "outputs": [],
   "source": [
    "optimizer = torch.optim.SGD(model.parameters(), lr=0.01)"
   ]
  },
  {
   "cell_type": "markdown",
   "id": "a53496f6",
   "metadata": {},
   "source": [
    "**torch.optim.Adam:** Adam optimizer."
   ]
  },
  {
   "cell_type": "code",
   "execution_count": 24,
   "id": "9803fb5a",
   "metadata": {},
   "outputs": [],
   "source": [
    "optimizer = torch.optim.Adam(model.parameters(), lr=0.001)"
   ]
  },
  {
   "cell_type": "markdown",
   "id": "26f21f5b",
   "metadata": {},
   "source": [
    "**torch.optim.lr_scheduler:** Learning rate scheduler."
   ]
  },
  {
   "cell_type": "code",
   "execution_count": 25,
   "id": "e0b1a2cb",
   "metadata": {},
   "outputs": [],
   "source": [
    "scheduler = torch.optim.lr_scheduler.StepLR(optimizer, step_size=1, gamma=0.9)"
   ]
  },
  {
   "cell_type": "markdown",
   "id": "6a2d8215",
   "metadata": {},
   "source": [
    "# Data Loading\n"
   ]
  },
  {
   "cell_type": "markdown",
   "id": "e4660d0d",
   "metadata": {},
   "source": [
    "**torch.utils.data.DataLoader:** Loads data from a dataset."
   ]
  },
  {
   "cell_type": "code",
   "execution_count": 26,
   "id": "deed936f",
   "metadata": {},
   "outputs": [],
   "source": [
    "from torch.utils.data import DataLoader, TensorDataset\n",
    "dataset = TensorDataset(torch.tensor([[1, 2], [3, 4]]), torch.tensor([1, 0]))\n",
    "dataloader = DataLoader(dataset, batch_size=2)"
   ]
  },
  {
   "cell_type": "markdown",
   "id": "745791a6",
   "metadata": {},
   "source": [
    "# Saving and Loading\n",
    "\n",
    "**torch.save():** Saves a model or tensor."
   ]
  },
  {
   "cell_type": "code",
   "execution_count": 27,
   "id": "10cf2b89",
   "metadata": {},
   "outputs": [],
   "source": [
    "torch.save(model.state_dict(), 'model.pth')"
   ]
  },
  {
   "cell_type": "markdown",
   "id": "3f051446",
   "metadata": {},
   "source": [
    "**torch.load():** Loads a saved model or tensor."
   ]
  },
  {
   "cell_type": "code",
   "execution_count": 28,
   "id": "d98789ca",
   "metadata": {},
   "outputs": [
    {
     "data": {
      "text/plain": [
       "<All keys matched successfully>"
      ]
     },
     "execution_count": 28,
     "metadata": {},
     "output_type": "execute_result"
    }
   ],
   "source": [
    "model.load_state_dict(torch.load('model.pth'))"
   ]
  },
  {
   "cell_type": "markdown",
   "id": "ce18fe08",
   "metadata": {},
   "source": [
    "# Utilities\n",
    "\n",
    "**torch.device:** Specifies the device for a tensor."
   ]
  },
  {
   "cell_type": "code",
   "execution_count": 29,
   "id": "c0ee15c8",
   "metadata": {},
   "outputs": [],
   "source": [
    "device = torch.device(\"cuda\" if torch.cuda.is_available() else \"cpu\")\n",
    "tensor = torch.tensor([1, 2, 3]).to(device)"
   ]
  },
  {
   "cell_type": "markdown",
   "id": "14ac437a",
   "metadata": {},
   "source": [
    "**torch.cuda.is_available():** Checks if CUDA device is available."
   ]
  },
  {
   "cell_type": "code",
   "execution_count": 30,
   "id": "7302271c",
   "metadata": {},
   "outputs": [
    {
     "name": "stdout",
     "output_type": "stream",
     "text": [
      "False\n"
     ]
    }
   ],
   "source": [
    "is_cuda_available = torch.cuda.is_available()\n",
    "print(is_cuda_available)"
   ]
  },
  {
   "cell_type": "markdown",
   "id": "682e4d81",
   "metadata": {},
   "source": [
    "**torch.backends.cudnn.enabled:** Enables/disables CUDNN acceleration."
   ]
  },
  {
   "cell_type": "code",
   "execution_count": 31,
   "id": "e186cedd",
   "metadata": {},
   "outputs": [],
   "source": [
    "torch.backends.cudnn.enabled = True"
   ]
  },
  {
   "cell_type": "code",
   "execution_count": null,
   "id": "6abb48a4",
   "metadata": {},
   "outputs": [],
   "source": []
  }
 ],
 "metadata": {
  "kernelspec": {
   "display_name": "Python 3 (ipykernel)",
   "language": "python",
   "name": "python3"
  },
  "language_info": {
   "codemirror_mode": {
    "name": "ipython",
    "version": 3
   },
   "file_extension": ".py",
   "mimetype": "text/x-python",
   "name": "python",
   "nbconvert_exporter": "python",
   "pygments_lexer": "ipython3",
   "version": "3.11.5"
  }
 },
 "nbformat": 4,
 "nbformat_minor": 5
}
