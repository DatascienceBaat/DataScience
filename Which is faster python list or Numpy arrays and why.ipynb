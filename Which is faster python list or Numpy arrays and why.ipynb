{
 "cells": [
  {
   "cell_type": "markdown",
   "id": "b26b96c1",
   "metadata": {},
   "source": [
    "# Which is faster python list or Numpy arrays and why?"
   ]
  },
  {
   "cell_type": "markdown",
   "id": "598ca2fb",
   "metadata": {},
   "source": [
    "## Homogeneous Data Types\n",
    "\n",
    "NumPy arrays are designed to store elements of the same data type which allow to take advantage of more efficient memory storage and access patterns while Python lists can store elements of different data types which require additional overhead to handle these diverse types."
   ]
  },
  {
   "cell_type": "code",
   "execution_count": 6,
   "id": "32827891",
   "metadata": {},
   "outputs": [
    {
     "name": "stdout",
     "output_type": "stream",
     "text": [
      "Sum of NumPy array took: 0.002003908157348633 seconds\n",
      "Sum of Python list took: 0.006054878234863281 seconds\n"
     ]
    }
   ],
   "source": [
    "import numpy as np\n",
    "import time\n",
    "\n",
    "# Creating a NumPy array with homogeneous data types\n",
    "np_array = np.ones(1000000)\n",
    "\n",
    "# Creating a Python list with homogeneous data types\n",
    "py_list = [1] * 1000000\n",
    "\n",
    "# Timing access for NumPy array\n",
    "start_time = time.time()\n",
    "sum_np = np.sum(np_array)\n",
    "end_time = time.time()\n",
    "print(\"Sum of NumPy array took:\", end_time - start_time, \"seconds\")\n",
    "\n",
    "# Timing access for Python list\n",
    "start_time = time.time()\n",
    "sum_list = sum(py_list)\n",
    "end_time = time.time()\n",
    "print(\"Sum of Python list took:\", end_time - start_time, \"seconds\")\n"
   ]
  },
  {
   "cell_type": "markdown",
   "id": "c135d06f",
   "metadata": {},
   "source": [
    "## Contiguous Memory Layout\n",
    "\n",
    "NumPy arrays are stored in contiguous blocks of memory which allows for efficient access and manipulation of the data as the processor can take advantage of cache locality while Python lists however store references to objects which can be scattered in memory leading to less efficient data access patterns."
   ]
  },
  {
   "cell_type": "code",
   "execution_count": 7,
   "id": "e6b6a20e",
   "metadata": {},
   "outputs": [
    {
     "name": "stdout",
     "output_type": "stream",
     "text": [
      "NumPy array addition (contiguous memory) took: 0.014335155487060547 seconds\n",
      "Python list addition (non-contiguous memory) took: 0.06327295303344727 seconds\n"
     ]
    }
   ],
   "source": [
    "import numpy as np\n",
    "import time\n",
    "\n",
    "# Creating large NumPy arrays\n",
    "array1 = np.ones(1000000)\n",
    "array2 = np.ones(1000000)\n",
    "\n",
    "# Creating large Python lists\n",
    "list1 = [1] * 1000000\n",
    "list2 = [1] * 1000000\n",
    "\n",
    "# Timing NumPy array addition or contiguous memory\n",
    "start_time = time.time()\n",
    "result_array = array1 + array2\n",
    "end_time = time.time()\n",
    "print(\"NumPy array addition (contiguous memory) took:\", end_time - start_time, \"seconds\")\n",
    "\n",
    "# Timing Python list addition or non-contiguous memory\n",
    "start_time = time.time()\n",
    "result_list = [list1[i] + list2[i] for i in range(1000000)]\n",
    "end_time = time.time()\n",
    "print(\"Python list addition (non-contiguous memory) took:\", end_time - start_time, \"seconds\")\n"
   ]
  },
  {
   "cell_type": "markdown",
   "id": "7d44e24e",
   "metadata": {},
   "source": [
    "## Vectorized Operations\n",
    "\n",
    "NumPy provides a wealth of optimized precompiled functions for array operations that are implemented in C or Fortran. These functions take advantage of low-level optimizations and parallelism enabling faster execution While Python lists do not have such built-in vectorized operations often requiring explicit loops and additional overhead."
   ]
  },
  {
   "cell_type": "code",
   "execution_count": 8,
   "id": "38cd5a03",
   "metadata": {},
   "outputs": [
    {
     "name": "stdout",
     "output_type": "stream",
     "text": [
      "NumPy vectorized addition took: 0.005323171615600586 seconds\n",
      "Python list addition with loop took: 0.08379411697387695 seconds\n"
     ]
    }
   ],
   "source": [
    "import numpy as np\n",
    "import time\n",
    "\n",
    "# Creating large NumPy arrays\n",
    "array1 = np.ones(1000000)\n",
    "array2 = np.ones(1000000)\n",
    "\n",
    "# Creating large Python lists\n",
    "list1 = [1] * 1000000\n",
    "list2 = [1] * 1000000\n",
    "\n",
    "# Timing NumPy vectorized addition\n",
    "start_time = time.time()\n",
    "result_array = array1 + array2\n",
    "end_time = time.time()\n",
    "print(\"NumPy vectorized addition took:\", end_time - start_time, \"seconds\")\n",
    "\n",
    "# Timing Python list addition with explicit loop\n",
    "start_time = time.time()\n",
    "result_list = [list1[i] + list2[i] for i in range(1000000)]\n",
    "end_time = time.time()\n",
    "print(\"Python list addition with loop took:\", end_time - start_time, \"seconds\")\n"
   ]
  },
  {
   "cell_type": "markdown",
   "id": "fc3bf407",
   "metadata": {},
   "source": [
    "## Lower Overhead\n",
    "\n",
    "NumPy arrays have lower overhead compared to Python lists because they store elements directly in their memory block whereas Python lists store pointers to the objects. This pointer dereferencing adds overhead and slows down operations on lists."
   ]
  },
  {
   "cell_type": "code",
   "execution_count": 9,
   "id": "5af0a0d4",
   "metadata": {},
   "outputs": [
    {
     "name": "stdout",
     "output_type": "stream",
     "text": [
      "NumPy array element-wise multiplication took: 0.0031881332397460938 seconds\n",
      "Python list element-wise multiplication took: 0.05414628982543945 seconds\n"
     ]
    }
   ],
   "source": [
    "import numpy as np\n",
    "import time\n",
    "\n",
    "# Creating a large NumPy array\n",
    "np_array = np.ones(1000000)\n",
    "\n",
    "# Creating a large Python list\n",
    "py_list = [1] * 1000000\n",
    "\n",
    "# Timing element-wise multiplication for NumPy array\n",
    "start_time = time.time()\n",
    "result_np = np_array * 2\n",
    "end_time = time.time()\n",
    "print(\"NumPy array element-wise multiplication took:\", end_time - start_time, \"seconds\")\n",
    "\n",
    "# Timing element-wise multiplication for Python list\n",
    "start_time = time.time()\n",
    "result_list = [x * 2 for x in py_list]\n",
    "end_time = time.time()\n",
    "print(\"Python list element-wise multiplication took:\", end_time - start_time, \"seconds\")\n"
   ]
  },
  {
   "cell_type": "markdown",
   "id": "b668a0c2",
   "metadata": {},
   "source": [
    "These examples clearly illustrate why NumPy arrays are generally faster and more efficient than Python lists for numerical and large-scale data operations."
   ]
  },
  {
   "cell_type": "code",
   "execution_count": null,
   "id": "335f4b59",
   "metadata": {},
   "outputs": [],
   "source": []
  }
 ],
 "metadata": {
  "kernelspec": {
   "display_name": "Python 3 (ipykernel)",
   "language": "python",
   "name": "python3"
  },
  "language_info": {
   "codemirror_mode": {
    "name": "ipython",
    "version": 3
   },
   "file_extension": ".py",
   "mimetype": "text/x-python",
   "name": "python",
   "nbconvert_exporter": "python",
   "pygments_lexer": "ipython3",
   "version": "3.11.5"
  }
 },
 "nbformat": 4,
 "nbformat_minor": 5
}
