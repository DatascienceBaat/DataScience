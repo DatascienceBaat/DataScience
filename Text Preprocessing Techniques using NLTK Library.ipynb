{
 "cells": [
  {
   "cell_type": "code",
   "execution_count": 1,
   "id": "41eb492d-ecc3-413a-84dd-a4cf3e42922b",
   "metadata": {},
   "outputs": [],
   "source": [
    "import warnings\n",
    "warnings.filterwarnings(\"ignore\")"
   ]
  },
  {
   "cell_type": "markdown",
   "id": "abdc7de9-0682-4cca-932c-1cd4da51390b",
   "metadata": {},
   "source": [
    "### Tokenization\n",
    "\n",
    "Breaking text into individual words or sentences."
   ]
  },
  {
   "cell_type": "code",
   "execution_count": 2,
   "id": "07f7c2da-7cbb-4725-b949-97590669cca1",
   "metadata": {},
   "outputs": [],
   "source": [
    "from nltk.tokenize import word_tokenize, sent_tokenize\n",
    "\n",
    "text = \"NLTK is a powerful library for NLP. It provides various functions for text processing.\"\n",
    "words = word_tokenize(text)\n",
    "sentences = sent_tokenize(text)\n"
   ]
  },
  {
   "cell_type": "code",
   "execution_count": 3,
   "id": "88e92988-ee2f-4007-ab1d-b4156c9e1a59",
   "metadata": {},
   "outputs": [
    {
     "data": {
      "text/plain": [
       "['NLTK',\n",
       " 'is',\n",
       " 'a',\n",
       " 'powerful',\n",
       " 'library',\n",
       " 'for',\n",
       " 'NLP',\n",
       " '.',\n",
       " 'It',\n",
       " 'provides',\n",
       " 'various',\n",
       " 'functions',\n",
       " 'for',\n",
       " 'text',\n",
       " 'processing',\n",
       " '.']"
      ]
     },
     "execution_count": 3,
     "metadata": {},
     "output_type": "execute_result"
    }
   ],
   "source": [
    "words"
   ]
  },
  {
   "cell_type": "code",
   "execution_count": 4,
   "id": "ccbadaff-3b4d-4395-9dd1-919fcda85c3e",
   "metadata": {},
   "outputs": [
    {
     "data": {
      "text/plain": [
       "['NLTK is a powerful library for NLP.',\n",
       " 'It provides various functions for text processing.']"
      ]
     },
     "execution_count": 4,
     "metadata": {},
     "output_type": "execute_result"
    }
   ],
   "source": [
    "sentences"
   ]
  },
  {
   "cell_type": "markdown",
   "id": "c6f45179-2979-4560-98c5-02292eeab4a8",
   "metadata": {},
   "source": [
    "### Part-of-Speech (POS) Tagging\n",
    "\n",
    "Assigning grammatical information (e.g., noun, verb, adjective) to each word in a sentence."
   ]
  },
  {
   "cell_type": "code",
   "execution_count": 5,
   "id": "cbfec4fb-4cc5-429a-8295-375fcbe70cee",
   "metadata": {},
   "outputs": [
    {
     "name": "stderr",
     "output_type": "stream",
     "text": [
      "[nltk_data] Downloading package averaged_perceptron_tagger to\n",
      "[nltk_data]     C:\\Users\\admin\\AppData\\Roaming\\nltk_data...\n",
      "[nltk_data]   Package averaged_perceptron_tagger is already up-to-\n",
      "[nltk_data]       date!\n"
     ]
    },
    {
     "data": {
      "text/plain": [
       "True"
      ]
     },
     "execution_count": 5,
     "metadata": {},
     "output_type": "execute_result"
    }
   ],
   "source": [
    "import nltk\n",
    "nltk.download('averaged_perceptron_tagger')"
   ]
  },
  {
   "cell_type": "code",
   "execution_count": 6,
   "id": "59188544-56e1-4051-9ed9-0ad5dd7b4ee9",
   "metadata": {},
   "outputs": [],
   "source": [
    "from nltk import pos_tag\n",
    "\n",
    "words = word_tokenize(\"This is a sample sentence.\")\n",
    "pos_tags = pos_tag(words)\n"
   ]
  },
  {
   "cell_type": "code",
   "execution_count": 7,
   "id": "03b7da5d-ba5d-4259-82c8-772551e11e66",
   "metadata": {},
   "outputs": [
    {
     "data": {
      "text/plain": [
       "[('This', 'DT'),\n",
       " ('is', 'VBZ'),\n",
       " ('a', 'DT'),\n",
       " ('sample', 'JJ'),\n",
       " ('sentence', 'NN'),\n",
       " ('.', '.')]"
      ]
     },
     "execution_count": 7,
     "metadata": {},
     "output_type": "execute_result"
    }
   ],
   "source": [
    "pos_tags"
   ]
  },
  {
   "cell_type": "markdown",
   "id": "3d04d304-b803-4bb8-8c5b-e7e66ca60d4e",
   "metadata": {},
   "source": [
    "### Stemming and Lemmatization\n",
    "\n",
    "Reducing words to their base or root form."
   ]
  },
  {
   "cell_type": "code",
   "execution_count": 8,
   "id": "35285552-b983-4f56-a45d-37cebc8363e0",
   "metadata": {},
   "outputs": [
    {
     "name": "stdout",
     "output_type": "stream",
     "text": [
      "play\n",
      "play\n",
      "play\n",
      "play\n",
      "commun\n"
     ]
    }
   ],
   "source": [
    "from nltk.stem import PorterStemmer\n",
    "\n",
    "porter = PorterStemmer()\n",
    "print(porter.stem(\"play\"))\n",
    "print(porter.stem(\"playing\"))\n",
    "print(porter.stem(\"plays\"))\n",
    "print(porter.stem(\"played\"))\n",
    "print(porter.stem(\"Communication\"))\n"
   ]
  },
  {
   "cell_type": "code",
   "execution_count": 9,
   "id": "dc1bfd72-d0c1-45c8-9db6-fcb36f5176cc",
   "metadata": {},
   "outputs": [
    {
     "name": "stdout",
     "output_type": "stream",
     "text": [
      "play\n",
      "play\n",
      "play\n",
      "play\n",
      "Communication\n"
     ]
    }
   ],
   "source": [
    "from nltk.stem import WordNetLemmatizer\n",
    "\n",
    "lemmatizer = WordNetLemmatizer()\n",
    "print(lemmatizer.lemmatize(\"plays\", 'v'))\n",
    "print(lemmatizer.lemmatize(\"played\", 'v'))\n",
    "print(lemmatizer.lemmatize(\"play\", 'v'))\n",
    "print(lemmatizer.lemmatize(\"playing\", 'v'))\n",
    "print(lemmatizer.lemmatize(\"Communication\", 'v'))\n"
   ]
  },
  {
   "cell_type": "markdown",
   "id": "c5a88dce-e110-4b25-b101-ce5c1080f96d",
   "metadata": {},
   "source": [
    "### Named Entity Recognition (NER)\n",
    "\n",
    "Identifying named entities (e.g., persons, organizations, locations) in text."
   ]
  },
  {
   "cell_type": "code",
   "execution_count": 10,
   "id": "5c3dc4d3-ea8b-4983-8f1b-004f48ce9478",
   "metadata": {},
   "outputs": [
    {
     "name": "stderr",
     "output_type": "stream",
     "text": [
      "[nltk_data] Downloading package maxent_ne_chunker to\n",
      "[nltk_data]     C:\\Users\\admin\\AppData\\Roaming\\nltk_data...\n",
      "[nltk_data]   Package maxent_ne_chunker is already up-to-date!\n",
      "[nltk_data] Downloading package punkt to\n",
      "[nltk_data]     C:\\Users\\admin\\AppData\\Roaming\\nltk_data...\n",
      "[nltk_data]   Package punkt is already up-to-date!\n",
      "[nltk_data] Downloading package averaged_perceptron_tagger to\n",
      "[nltk_data]     C:\\Users\\admin\\AppData\\Roaming\\nltk_data...\n",
      "[nltk_data]   Package averaged_perceptron_tagger is already up-to-\n",
      "[nltk_data]       date!\n",
      "[nltk_data] Downloading package maxent_ne_chunker to\n",
      "[nltk_data]     C:\\Users\\admin\\AppData\\Roaming\\nltk_data...\n",
      "[nltk_data]   Package maxent_ne_chunker is already up-to-date!\n",
      "[nltk_data] Downloading package words to\n",
      "[nltk_data]     C:\\Users\\admin\\AppData\\Roaming\\nltk_data...\n",
      "[nltk_data]   Package words is already up-to-date!\n"
     ]
    },
    {
     "data": {
      "text/plain": [
       "True"
      ]
     },
     "execution_count": 10,
     "metadata": {},
     "output_type": "execute_result"
    }
   ],
   "source": [
    "import nltk\n",
    "nltk.download('maxent_ne_chunker')\n",
    "nltk.download('punkt')\n",
    "nltk.download('averaged_perceptron_tagger')\n",
    "nltk.download('maxent_ne_chunker')\n",
    "nltk.download('words')"
   ]
  },
  {
   "cell_type": "code",
   "execution_count": 11,
   "id": "ac0e52a2-4bc0-4e11-b97f-2ee3eed6e6b0",
   "metadata": {},
   "outputs": [
    {
     "name": "stdout",
     "output_type": "stream",
     "text": [
      "(S\n",
      "  (PERSON Barack/NNP)\n",
      "  (PERSON Obama/NNP)\n",
      "  was/VBD\n",
      "  born/VBN\n",
      "  in/IN\n",
      "  (GPE Honolulu/NNP)\n",
      "  ,/,\n",
      "  (GPE Hawaii/NNP)\n",
      "  ./.)\n"
     ]
    }
   ],
   "source": [
    "import nltk\n",
    "from nltk import word_tokenize, pos_tag, ne_chunk\n",
    "\n",
    "# Example text\n",
    "text = \"Barack Obama was born in Honolulu, Hawaii.\"\n",
    "\n",
    "# Tokenize the text into words\n",
    "words = word_tokenize(text)\n",
    "\n",
    "# Tag the words with part-of-speech tags\n",
    "tagged_words = pos_tag(words)\n",
    "\n",
    "# Identify named entities\n",
    "named_entities = ne_chunk(tagged_words)\n",
    "\n",
    "# Print the named entities\n",
    "print(named_entities)"
   ]
  },
  {
   "cell_type": "markdown",
   "id": "06ce096f-9a07-4dcf-9df4-e0719517d4d2",
   "metadata": {},
   "source": [
    "### Chunking\n",
    "\n",
    "Grouping words or phrases into chunks based on their POS tags."
   ]
  },
  {
   "cell_type": "code",
   "execution_count": 12,
   "id": "1df98741-66d2-4ee2-b3a3-4e6864765438",
   "metadata": {},
   "outputs": [
    {
     "name": "stdout",
     "output_type": "stream",
     "text": [
      "(S\n",
      "  (NP The/DT big/JJ black/JJ cat/NN)\n",
      "  sat/VBD\n",
      "  on/IN\n",
      "  (NP the/DT small/JJ white/JJ mat/NN)\n",
      "  near/IN\n",
      "  (NP the/DT window/NN)\n",
      "  ./.)\n"
     ]
    }
   ],
   "source": [
    "from nltk import word_tokenize, pos_tag, RegexpParser\n",
    "\n",
    "# Example text\n",
    "text = \"The big black cat sat on the small white mat near the window.\"\n",
    "\n",
    "# Define a more complex grammar for NP chunking\n",
    "grammar = r\"\"\"\n",
    "    NP: {<DT>?<JJ>*<NN>}    # Chunk sequences of DT, JJ, NN\n",
    "        {<NNP>+}            # Chunk sequences of NNP\n",
    "\"\"\"\n",
    "\n",
    "# Create the chunk parser\n",
    "parser = RegexpParser(grammar)\n",
    "\n",
    "# Tokenize the text\n",
    "words = word_tokenize(text)\n",
    "\n",
    "# POS tagging\n",
    "tagged_words = pos_tag(words)\n",
    "\n",
    "# Parse the tagged words\n",
    "tree = parser.parse(tagged_words)\n",
    "\n",
    "# Print the parse tree\n",
    "print(tree)"
   ]
  },
  {
   "cell_type": "markdown",
   "id": "995cd837-47ac-4164-8b21-d57b58a1a60d",
   "metadata": {},
   "source": [
    "### WordNet\n",
    "\n",
    "A lexical database that provides semantic relationships between words."
   ]
  },
  {
   "cell_type": "code",
   "execution_count": 13,
   "id": "b9d71cb7-8ceb-4a41-aea9-d704a4a1a357",
   "metadata": {},
   "outputs": [],
   "source": [
    "from nltk.corpus import wordnet\n",
    "\n",
    "synsets = wordnet.synsets(\"car\")\n"
   ]
  },
  {
   "cell_type": "code",
   "execution_count": 14,
   "id": "cc41fba6-5894-4366-a40b-a4057aa1310c",
   "metadata": {},
   "outputs": [
    {
     "data": {
      "text/plain": [
       "[Synset('car.n.01'),\n",
       " Synset('car.n.02'),\n",
       " Synset('car.n.03'),\n",
       " Synset('car.n.04'),\n",
       " Synset('cable_car.n.01')]"
      ]
     },
     "execution_count": 14,
     "metadata": {},
     "output_type": "execute_result"
    }
   ],
   "source": [
    "synsets"
   ]
  },
  {
   "cell_type": "markdown",
   "id": "75ca9277-454f-4473-b0ff-a50efc1eb73e",
   "metadata": {},
   "source": [
    "### Sentiment Analysis\n",
    "\n",
    "Determining sentiment (positive, negative, neutral) of text."
   ]
  },
  {
   "cell_type": "code",
   "execution_count": 15,
   "id": "5bb83c5f-b71e-4c20-b82e-cc9d42e34e4f",
   "metadata": {},
   "outputs": [
    {
     "name": "stderr",
     "output_type": "stream",
     "text": [
      "[nltk_data] Downloading package vader_lexicon to\n",
      "[nltk_data]     C:\\Users\\admin\\AppData\\Roaming\\nltk_data...\n",
      "[nltk_data]   Package vader_lexicon is already up-to-date!\n"
     ]
    },
    {
     "data": {
      "text/plain": [
       "True"
      ]
     },
     "execution_count": 15,
     "metadata": {},
     "output_type": "execute_result"
    }
   ],
   "source": [
    "import nltk\n",
    "nltk.download('vader_lexicon')\n"
   ]
  },
  {
   "cell_type": "code",
   "execution_count": 16,
   "id": "40c9b46b-271e-4494-aed5-68a7e6b13626",
   "metadata": {},
   "outputs": [],
   "source": [
    "from nltk.sentiment import SentimentIntensityAnalyzer\n",
    "\n",
    "sia = SentimentIntensityAnalyzer()\n",
    "sentiment_score = sia.polarity_scores(\"NLTK is awesome!\")\n"
   ]
  },
  {
   "cell_type": "code",
   "execution_count": 17,
   "id": "eb40af33-e9e6-46a3-b912-1f04e5efee67",
   "metadata": {},
   "outputs": [
    {
     "data": {
      "text/plain": [
       "{'neg': 0.0, 'neu': 0.313, 'pos': 0.687, 'compound': 0.6588}"
      ]
     },
     "execution_count": 17,
     "metadata": {},
     "output_type": "execute_result"
    }
   ],
   "source": [
    "sentiment_score"
   ]
  },
  {
   "cell_type": "code",
   "execution_count": null,
   "id": "4808b543-d8ea-44d1-acda-cfe8978ec72d",
   "metadata": {},
   "outputs": [],
   "source": []
  }
 ],
 "metadata": {
  "kernelspec": {
   "display_name": "Python 3 (ipykernel)",
   "language": "python",
   "name": "python3"
  },
  "language_info": {
   "codemirror_mode": {
    "name": "ipython",
    "version": 3
   },
   "file_extension": ".py",
   "mimetype": "text/x-python",
   "name": "python",
   "nbconvert_exporter": "python",
   "pygments_lexer": "ipython3",
   "version": "3.12.3"
  }
 },
 "nbformat": 4,
 "nbformat_minor": 5
}
