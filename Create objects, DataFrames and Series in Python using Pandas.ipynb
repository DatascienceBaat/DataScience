{
 "cells": [
  {
   "cell_type": "markdown",
   "id": "d71b9100",
   "metadata": {},
   "source": [
    "# Create objects, DataFrames and Series in Python using Pandas"
   ]
  },
  {
   "cell_type": "markdown",
   "id": "ef00d4cc",
   "metadata": {},
   "source": [
    "## Creating Objects in Python\n",
    "\n",
    "### Creating a basic object:"
   ]
  },
  {
   "cell_type": "code",
   "execution_count": 1,
   "id": "803ffa0a",
   "metadata": {},
   "outputs": [
    {
     "name": "stdout",
     "output_type": "stream",
     "text": [
      "Buddy says woof!\n"
     ]
    }
   ],
   "source": [
    "class Dog:\n",
    "    def __init__(self, name, age):\n",
    "        self.name = name\n",
    "        self.age = age\n",
    "    \n",
    "    def bark(self):\n",
    "        return f\"{self.name} says woof!\"\n",
    "\n",
    "# Creating an instance of Dog\n",
    "my_dog = Dog(name=\"Buddy\", age=5)\n",
    "print(my_dog.bark())\n"
   ]
  },
  {
   "cell_type": "markdown",
   "id": "c91f7ed4",
   "metadata": {},
   "source": [
    "## Creating a Pandas DataFrame\n",
    "\n",
    "### Creating a DataFrame from a dictionary:"
   ]
  },
  {
   "cell_type": "code",
   "execution_count": 2,
   "id": "16ec2d49",
   "metadata": {},
   "outputs": [
    {
     "name": "stdout",
     "output_type": "stream",
     "text": [
      "      Name  Age         City\n",
      "0    Alice   25     New York\n",
      "1      Bob   30  Los Angeles\n",
      "2  Charlie   35      Chicago\n"
     ]
    }
   ],
   "source": [
    "import pandas as pd\n",
    "\n",
    "# Creating a dictionary\n",
    "data = {\n",
    "    'Name': ['Alice', 'Bob', 'Charlie'],\n",
    "    'Age': [25, 30, 35],\n",
    "    'City': ['New York', 'Los Angeles', 'Chicago']\n",
    "}\n",
    "\n",
    "# Creating a DataFrame\n",
    "df = pd.DataFrame(data)\n",
    "print(df)\n"
   ]
  },
  {
   "cell_type": "markdown",
   "id": "f471509a",
   "metadata": {},
   "source": [
    "### Creating a DataFrame from a list of lists:"
   ]
  },
  {
   "cell_type": "code",
   "execution_count": 3,
   "id": "f9614054",
   "metadata": {},
   "outputs": [
    {
     "name": "stdout",
     "output_type": "stream",
     "text": [
      "      Name  Age         City\n",
      "0    Alice   25     New York\n",
      "1      Bob   30  Los Angeles\n",
      "2  Charlie   35      Chicago\n"
     ]
    }
   ],
   "source": [
    "# Creating a list of lists\n",
    "data = [\n",
    "    ['Alice', 25, 'New York'],\n",
    "    ['Bob', 30, 'Los Angeles'],\n",
    "    ['Charlie', 35, 'Chicago']\n",
    "]\n",
    "\n",
    "# Creating a DataFrame with column names\n",
    "df = pd.DataFrame(data, columns=['Name', 'Age', 'City'])\n",
    "print(df)\n"
   ]
  },
  {
   "cell_type": "markdown",
   "id": "5d2eb302",
   "metadata": {},
   "source": [
    "## Creating a Pandas Series\n",
    "\n",
    "### Creating a Series from a list:"
   ]
  },
  {
   "cell_type": "code",
   "execution_count": 4,
   "id": "2d2c36eb",
   "metadata": {},
   "outputs": [
    {
     "name": "stdout",
     "output_type": "stream",
     "text": [
      "0    10\n",
      "1    20\n",
      "2    30\n",
      "3    40\n",
      "4    50\n",
      "dtype: int64\n"
     ]
    }
   ],
   "source": [
    "# Creating a Series from a list\n",
    "data = [10, 20, 30, 40, 50]\n",
    "series = pd.Series(data)\n",
    "print(series)\n"
   ]
  },
  {
   "cell_type": "markdown",
   "id": "a5a41ffe",
   "metadata": {},
   "source": [
    "### Creating a Series from a dictionary: "
   ]
  },
  {
   "cell_type": "code",
   "execution_count": 5,
   "id": "10bb61df",
   "metadata": {},
   "outputs": [
    {
     "name": "stdout",
     "output_type": "stream",
     "text": [
      "a    10\n",
      "b    20\n",
      "c    30\n",
      "dtype: int64\n"
     ]
    }
   ],
   "source": [
    "# Creating a dictionary\n",
    "data = {'a': 10, 'b': 20, 'c': 30}\n",
    "\n",
    "# Creating a Series from the dictionary\n",
    "series = pd.Series(data)\n",
    "print(series)\n"
   ]
  },
  {
   "cell_type": "code",
   "execution_count": null,
   "id": "82b1aec1",
   "metadata": {},
   "outputs": [],
   "source": []
  }
 ],
 "metadata": {
  "kernelspec": {
   "display_name": "Python 3 (ipykernel)",
   "language": "python",
   "name": "python3"
  },
  "language_info": {
   "codemirror_mode": {
    "name": "ipython",
    "version": 3
   },
   "file_extension": ".py",
   "mimetype": "text/x-python",
   "name": "python",
   "nbconvert_exporter": "python",
   "pygments_lexer": "ipython3",
   "version": "3.11.5"
  }
 },
 "nbformat": 4,
 "nbformat_minor": 5
}
