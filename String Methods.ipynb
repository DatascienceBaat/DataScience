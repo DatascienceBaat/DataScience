{
 "cells": [
  {
   "cell_type": "markdown",
   "id": "7daef343",
   "metadata": {},
   "source": [
    "# 1. Basic String Methods"
   ]
  },
  {
   "cell_type": "markdown",
   "id": "37eac3ab",
   "metadata": {},
   "source": [
    "- str.upper(): Converts all characters in the string to uppercase.\n",
    "- str.lower(): Converts all characters in the string to lowercase.\n",
    "- str.capitalize(): Capitalizes the first character of the string.\n",
    "- str.title(): Capitalizes the first character of each word in the string.\n",
    "- str.swapcase(): Swaps the case of all characters in the string."
   ]
  },
  {
   "cell_type": "code",
   "execution_count": 1,
   "id": "34f6ec52",
   "metadata": {},
   "outputs": [
    {
     "name": "stdout",
     "output_type": "stream",
     "text": [
      "HELLO WORLD\n",
      "hello world\n",
      "Hello world\n",
      "Hello World\n",
      "HELLO WORLD\n"
     ]
    }
   ],
   "source": [
    "s = \"hello world\"\n",
    "\n",
    "print(s.upper())        \n",
    "print(s.lower())        \n",
    "print(s.capitalize())   \n",
    "print(s.title())       \n",
    "print(s.swapcase())    \n"
   ]
  },
  {
   "cell_type": "markdown",
   "id": "d3a6bdc2",
   "metadata": {},
   "source": [
    "# 2. Searching and Replacing:\n",
    "\n",
    "- str.find(sub): Returns the lowest index in the string where substring sub is found or -1 if not found.\n",
    "- str.rfind(sub): Returns the highest index in the string where substring sub is found or -1 if not found.\n",
    "- str.index(sub): Like find() but raises a ValueError if sub is not found.\n",
    "- str.rindex(sub): Like rfind() but raises a ValueError if sub is not found.\n",
    "- str.replace(old, new): Returns a copy of the string with all occurrences of substring old replaced by new."
   ]
  },
  {
   "cell_type": "code",
   "execution_count": 2,
   "id": "bdaff72f",
   "metadata": {},
   "outputs": [
    {
     "name": "stdout",
     "output_type": "stream",
     "text": [
      "3\n",
      "7\n",
      "3\n",
      "Substring not found\n",
      "hello there\n"
     ]
    }
   ],
   "source": [
    "s = \"hello world\"\n",
    "\n",
    "print(s.find(\"lo\"))         \n",
    "print(s.rfind(\"o\"))         \n",
    "print(s.index(\"lo\"))       \n",
    "try:\n",
    "    print(s.rindex(\"x\"))    \n",
    "except ValueError:\n",
    "    print(\"Substring not found\")\n",
    "\n",
    "print(s.replace(\"world\", \"there\"))  \n"
   ]
  },
  {
   "cell_type": "markdown",
   "id": "35985993",
   "metadata": {},
   "source": [
    "# 3. Trimming Strings:\n",
    "\n",
    "- str.strip(): Removes leading and trailing whitespace.\n",
    "- str.lstrip(): Removes leading whitespace.\n",
    "- str.rstrip(): Removes trailing whitespace."
   ]
  },
  {
   "cell_type": "code",
   "execution_count": 3,
   "id": "42916b42",
   "metadata": {},
   "outputs": [
    {
     "name": "stdout",
     "output_type": "stream",
     "text": [
      "hello world\n",
      "hello world  \n",
      "  hello world\n"
     ]
    }
   ],
   "source": [
    "s = \"  hello world  \"\n",
    "\n",
    "print(s.strip())    \n",
    "print(s.lstrip())   \n",
    "print(s.rstrip())   \n"
   ]
  },
  {
   "cell_type": "markdown",
   "id": "fac9318b",
   "metadata": {},
   "source": [
    "# 4. String Inspection:\n",
    "\n",
    "- str.startswith(prefix): Returns True if the string starts with the specified prefix.\n",
    "- str.endswith(suffix): Returns True if the string ends with the specified suffix.\n",
    "- str.isalpha(): Returns True if all characters in the string are alphabetic.\n",
    "- str.isdigit(): Returns True if all characters in the string are digits.\n",
    "- str.isalnum(): Returns True if all characters in the string are alphanumeric.\n",
    "- str.isspace(): Returns True if all characters in the string are whitespace.\n",
    "- str.islower(): Returns True if all characters in the string are lowercase.\n",
    "- str.isupper(): Returns True if all characters in the string are uppercase.\n",
    "- str.istitle(): Returns True if the string is titlecased (i.e., capitalized)."
   ]
  },
  {
   "cell_type": "code",
   "execution_count": 4,
   "id": "69140b07",
   "metadata": {},
   "outputs": [
    {
     "name": "stdout",
     "output_type": "stream",
     "text": [
      "True\n",
      "True\n",
      "False\n",
      "True\n",
      "False\n",
      "True\n",
      "True\n",
      "False\n",
      "True\n"
     ]
    }
   ],
   "source": [
    "s = \"hello world\"\n",
    "num = \"12345\"\n",
    "\n",
    "print(s.startswith(\"hello\"))  \n",
    "print(s.endswith(\"world\"))    \n",
    "print(s.isalpha())            \n",
    "print(num.isdigit())          \n",
    "print(s.isalnum())            \n",
    "print(\" \".isspace())          \n",
    "print(s.islower())            \n",
    "print(s.isupper())            \n",
    "print(\"Hello World\".istitle())\n"
   ]
  },
  {
   "cell_type": "markdown",
   "id": "83b99c68",
   "metadata": {},
   "source": [
    "# 5. Splitting and Joining:\n",
    "\n",
    "- str.split(sep=None): Splits the string into a list of substrings based on the separator sep.\n",
    "- str.rsplit(sep=None): Splits the string into a list of substrings from the right based on the separator sep.\n",
    "- str.splitlines(): Splits the string at line breaks and returns a list of lines.\n",
    "- str.join(iterable): Concatenates a list or tuple of strings using the string as the separator."
   ]
  },
  {
   "cell_type": "code",
   "execution_count": 5,
   "id": "75765167",
   "metadata": {},
   "outputs": [
    {
     "name": "stdout",
     "output_type": "stream",
     "text": [
      "['hello', 'world']\n",
      "['one', 'two', 'three']\n",
      "['line1', 'line2']\n",
      "a,b,c\n"
     ]
    }
   ],
   "source": [
    "s = \"hello world\"\n",
    "\n",
    "print(s.split())              \n",
    "print(\"one,two,three\".rsplit(\",\")) \n",
    "print(\"line1\\nline2\".splitlines()) \n",
    "print(\",\".join([\"a\", \"b\", \"c\"]))   \n"
   ]
  },
  {
   "cell_type": "markdown",
   "id": "f57b97ee",
   "metadata": {},
   "source": [
    "# 6. Formatting:\n",
    "\n",
    "- str.format(*args, **kwargs): Performs string formatting, allowing for positional and keyword arguments.\n",
    "- str.format_map(mapping): Similar to format() but takes a single mapping object as an argument."
   ]
  },
  {
   "cell_type": "code",
   "execution_count": 6,
   "id": "439977d5",
   "metadata": {},
   "outputs": [
    {
     "name": "stdout",
     "output_type": "stream",
     "text": [
      "My name is Alice and I am 30 years old.\n",
      "My name is Alice and I am 30 years old.\n",
      "My name is Alice and I am 30 years old.\n",
      "My name is Alice and I am 30 years old.\n"
     ]
    }
   ],
   "source": [
    "name = \"Alice\"\n",
    "age = 30\n",
    "\n",
    "print(\"My name is {} and I am {} years old.\".format(name, age))\n",
    "print(\"My name is {0} and I am {1} years old.\".format(name, age))\n",
    "print(\"My name is {name} and I am {age} years old.\".format(name=name, age=age))\n",
    "\n",
    "data = {\"name\": \"Alice\", \"age\": 30}\n",
    "print(\"My name is {name} and I am {age} years old.\".format_map(data))\n"
   ]
  },
  {
   "cell_type": "markdown",
   "id": "4b526109",
   "metadata": {},
   "source": [
    "# 7. Encoding and Decoding:\n",
    "\n",
    "- str.encode(encoding='utf-8', errors='strict'): Encodes the string using the specified encoding.\n",
    "- str.decode(encoding='utf-8', errors='strict'): Decodes the string using the specified encoding.\n",
    "    "
   ]
  },
  {
   "cell_type": "code",
   "execution_count": 7,
   "id": "15418ab3",
   "metadata": {},
   "outputs": [
    {
     "name": "stdout",
     "output_type": "stream",
     "text": [
      "b'hello world'\n",
      "hello world\n"
     ]
    }
   ],
   "source": [
    "s = \"hello world\"\n",
    "\n",
    "encoded = s.encode('utf-8')\n",
    "print(encoded) \n",
    "decoded = encoded.decode('utf-8')\n",
    "print(decoded)  \n"
   ]
  },
  {
   "cell_type": "markdown",
   "id": "4499884c",
   "metadata": {},
   "source": [
    "# 8. Alignment:\n",
    "\n",
    "- str.center(width, fillchar=' '): Centers the string in a field of the specified width, padded with fillchar.\n",
    "- str.ljust(width, fillchar=' '): Left-justifies the string in a field of the specified width, padded with fillchar.\n",
    "- str.rjust(width, fillchar=' '): Right-justifies the string in a field of the specified width, padded with fillchar. "
   ]
  },
  {
   "cell_type": "code",
   "execution_count": 8,
   "id": "46060f99",
   "metadata": {},
   "outputs": [
    {
     "name": "stdout",
     "output_type": "stream",
     "text": [
      "**hello***\n",
      "hello-----\n",
      ".....hello\n"
     ]
    }
   ],
   "source": [
    "s = \"hello\"\n",
    "\n",
    "print(s.center(10, '*'))  \n",
    "print(s.ljust(10, '-'))   \n",
    "print(s.rjust(10, '.'))   \n"
   ]
  },
  {
   "cell_type": "code",
   "execution_count": null,
   "id": "818a3f6c",
   "metadata": {},
   "outputs": [],
   "source": []
  }
 ],
 "metadata": {
  "kernelspec": {
   "display_name": "Python 3 (ipykernel)",
   "language": "python",
   "name": "python3"
  },
  "language_info": {
   "codemirror_mode": {
    "name": "ipython",
    "version": 3
   },
   "file_extension": ".py",
   "mimetype": "text/x-python",
   "name": "python",
   "nbconvert_exporter": "python",
   "pygments_lexer": "ipython3",
   "version": "3.11.5"
  }
 },
 "nbformat": 4,
 "nbformat_minor": 5
}
